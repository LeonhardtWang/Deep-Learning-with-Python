{
 "cells": [
  {
   "cell_type": "markdown",
   "metadata": {},
   "source": [
    "**6.1 处理文本数据**"
   ]
  },
  {
   "cell_type": "markdown",
   "metadata": {},
   "source": [
    "单词和字符的one-hot编码"
   ]
  },
  {
   "cell_type": "code",
   "execution_count": 10,
   "metadata": {},
   "outputs": [],
   "source": [
    "# 单词级的one-hot编码（简单示例）\n",
    "import numpy as np\n",
    "\n",
    "samples = ['The cat sat on the mat.', 'The dog ate my homework.'] # 初试数据：每个样本是列表的一个元素\n",
    "                                                                  # （本例中的样本是一个句子，但也可以是一整篇文档）\n",
    "    \n",
    "token_index = {} # 构建数据中所有标记的索引\n",
    "for sample in samples:\n",
    "    for word in sample.split():      # 利用split方法对样本进行粉刺。在实际应用中，还需要从样本中去掉\n",
    "        if word not in token_index:  # 标点和特殊符号\n",
    "            token_index[word] = len(token_index) + 1 # 为每个唯一单词指定一个唯一索引。\n",
    "                                                     # 注意，没有为索引编号0指定单词\n",
    "max_length = 10 # 对样本进行分词。只考虑每个样本前max_length个单词\n",
    "\n",
    "results = np.zeros(shape=(len(samples), max_length, max(token_index.values()) + 1)) # 将结果保存在results中\n",
    "\n",
    "for i, sample in enumerate(samples):\n",
    "    for j, word in list(enumerate(sample.split()))[: max_length]:\n",
    "        index = token_index.get(word)\n",
    "        results[i, j, index] = 1."
   ]
  },
  {
   "cell_type": "code",
   "execution_count": 12,
   "metadata": {},
   "outputs": [
    {
     "data": {
      "text/plain": [
       "{'The': 1,\n",
       " 'ate': 8,\n",
       " 'cat': 2,\n",
       " 'dog': 7,\n",
       " 'homework.': 10,\n",
       " 'mat.': 6,\n",
       " 'my': 9,\n",
       " 'on': 4,\n",
       " 'sat': 3,\n",
       " 'the': 5}"
      ]
     },
     "execution_count": 12,
     "metadata": {},
     "output_type": "execute_result"
    }
   ],
   "source": [
    "token_index"
   ]
  },
  {
   "cell_type": "code",
   "execution_count": 11,
   "metadata": {},
   "outputs": [
    {
     "data": {
      "text/plain": [
       "array([[[0., 1., 0., 0., 0., 0., 0., 0., 0., 0., 0.],\n",
       "        [0., 0., 1., 0., 0., 0., 0., 0., 0., 0., 0.],\n",
       "        [0., 0., 0., 1., 0., 0., 0., 0., 0., 0., 0.],\n",
       "        [0., 0., 0., 0., 1., 0., 0., 0., 0., 0., 0.],\n",
       "        [0., 0., 0., 0., 0., 1., 0., 0., 0., 0., 0.],\n",
       "        [0., 0., 0., 0., 0., 0., 1., 0., 0., 0., 0.],\n",
       "        [0., 0., 0., 0., 0., 0., 0., 0., 0., 0., 0.],\n",
       "        [0., 0., 0., 0., 0., 0., 0., 0., 0., 0., 0.],\n",
       "        [0., 0., 0., 0., 0., 0., 0., 0., 0., 0., 0.],\n",
       "        [0., 0., 0., 0., 0., 0., 0., 0., 0., 0., 0.]],\n",
       "\n",
       "       [[0., 1., 0., 0., 0., 0., 0., 0., 0., 0., 0.],\n",
       "        [0., 0., 0., 0., 0., 0., 0., 1., 0., 0., 0.],\n",
       "        [0., 0., 0., 0., 0., 0., 0., 0., 1., 0., 0.],\n",
       "        [0., 0., 0., 0., 0., 0., 0., 0., 0., 1., 0.],\n",
       "        [0., 0., 0., 0., 0., 0., 0., 0., 0., 0., 1.],\n",
       "        [0., 0., 0., 0., 0., 0., 0., 0., 0., 0., 0.],\n",
       "        [0., 0., 0., 0., 0., 0., 0., 0., 0., 0., 0.],\n",
       "        [0., 0., 0., 0., 0., 0., 0., 0., 0., 0., 0.],\n",
       "        [0., 0., 0., 0., 0., 0., 0., 0., 0., 0., 0.],\n",
       "        [0., 0., 0., 0., 0., 0., 0., 0., 0., 0., 0.]]])"
      ]
     },
     "execution_count": 11,
     "metadata": {},
     "output_type": "execute_result"
    }
   ],
   "source": [
    "results"
   ]
  },
  {
   "cell_type": "code",
   "execution_count": 13,
   "metadata": {},
   "outputs": [],
   "source": [
    "# 字符级的one-hot编码（简单示例）\n",
    "import string\n",
    "\n",
    "samples = ['The cat sat on the mat.', 'The dog ate my homework.']\n",
    "characters = string.printable # 所有可打印的ASCII字符\n",
    "token_index = dict(zip(range(1, len(characters) + 1), characters))\n",
    "\n",
    "max_length = 50 \n",
    "results = np.zeros((len(samples), max_length, max(token_index.keys()) + 1))\n",
    "for i, sample in enumerate(samples):\n",
    "    for j, character in enumerate(sample):\n",
    "        index = token_index.get(character)\n",
    "        results[i, j, index] = 1."
   ]
  },
  {
   "cell_type": "code",
   "execution_count": 14,
   "metadata": {
    "scrolled": true
   },
   "outputs": [
    {
     "data": {
      "text/plain": [
       "{1: '0',\n",
       " 2: '1',\n",
       " 3: '2',\n",
       " 4: '3',\n",
       " 5: '4',\n",
       " 6: '5',\n",
       " 7: '6',\n",
       " 8: '7',\n",
       " 9: '8',\n",
       " 10: '9',\n",
       " 11: 'a',\n",
       " 12: 'b',\n",
       " 13: 'c',\n",
       " 14: 'd',\n",
       " 15: 'e',\n",
       " 16: 'f',\n",
       " 17: 'g',\n",
       " 18: 'h',\n",
       " 19: 'i',\n",
       " 20: 'j',\n",
       " 21: 'k',\n",
       " 22: 'l',\n",
       " 23: 'm',\n",
       " 24: 'n',\n",
       " 25: 'o',\n",
       " 26: 'p',\n",
       " 27: 'q',\n",
       " 28: 'r',\n",
       " 29: 's',\n",
       " 30: 't',\n",
       " 31: 'u',\n",
       " 32: 'v',\n",
       " 33: 'w',\n",
       " 34: 'x',\n",
       " 35: 'y',\n",
       " 36: 'z',\n",
       " 37: 'A',\n",
       " 38: 'B',\n",
       " 39: 'C',\n",
       " 40: 'D',\n",
       " 41: 'E',\n",
       " 42: 'F',\n",
       " 43: 'G',\n",
       " 44: 'H',\n",
       " 45: 'I',\n",
       " 46: 'J',\n",
       " 47: 'K',\n",
       " 48: 'L',\n",
       " 49: 'M',\n",
       " 50: 'N',\n",
       " 51: 'O',\n",
       " 52: 'P',\n",
       " 53: 'Q',\n",
       " 54: 'R',\n",
       " 55: 'S',\n",
       " 56: 'T',\n",
       " 57: 'U',\n",
       " 58: 'V',\n",
       " 59: 'W',\n",
       " 60: 'X',\n",
       " 61: 'Y',\n",
       " 62: 'Z',\n",
       " 63: '!',\n",
       " 64: '\"',\n",
       " 65: '#',\n",
       " 66: '$',\n",
       " 67: '%',\n",
       " 68: '&',\n",
       " 69: \"'\",\n",
       " 70: '(',\n",
       " 71: ')',\n",
       " 72: '*',\n",
       " 73: '+',\n",
       " 74: ',',\n",
       " 75: '-',\n",
       " 76: '.',\n",
       " 77: '/',\n",
       " 78: ':',\n",
       " 79: ';',\n",
       " 80: '<',\n",
       " 81: '=',\n",
       " 82: '>',\n",
       " 83: '?',\n",
       " 84: '@',\n",
       " 85: '[',\n",
       " 86: '\\\\',\n",
       " 87: ']',\n",
       " 88: '^',\n",
       " 89: '_',\n",
       " 90: '`',\n",
       " 91: '{',\n",
       " 92: '|',\n",
       " 93: '}',\n",
       " 94: '~',\n",
       " 95: ' ',\n",
       " 96: '\\t',\n",
       " 97: '\\n',\n",
       " 98: '\\r',\n",
       " 99: '\\x0b',\n",
       " 100: '\\x0c'}"
      ]
     },
     "execution_count": 14,
     "metadata": {},
     "output_type": "execute_result"
    }
   ],
   "source": [
    "token_index"
   ]
  },
  {
   "cell_type": "code",
   "execution_count": 17,
   "metadata": {},
   "outputs": [
    {
     "data": {
      "text/plain": [
       "array([[[1., 1., 1., ..., 1., 1., 1.],\n",
       "        [1., 1., 1., ..., 1., 1., 1.],\n",
       "        [1., 1., 1., ..., 1., 1., 1.],\n",
       "        ...,\n",
       "        [0., 0., 0., ..., 0., 0., 0.],\n",
       "        [0., 0., 0., ..., 0., 0., 0.],\n",
       "        [0., 0., 0., ..., 0., 0., 0.]],\n",
       "\n",
       "       [[1., 1., 1., ..., 1., 1., 1.],\n",
       "        [1., 1., 1., ..., 1., 1., 1.],\n",
       "        [1., 1., 1., ..., 1., 1., 1.],\n",
       "        ...,\n",
       "        [0., 0., 0., ..., 0., 0., 0.],\n",
       "        [0., 0., 0., ..., 0., 0., 0.],\n",
       "        [0., 0., 0., ..., 0., 0., 0.]]])"
      ]
     },
     "execution_count": 17,
     "metadata": {},
     "output_type": "execute_result"
    }
   ],
   "source": [
    "results"
   ]
  },
  {
   "cell_type": "code",
   "execution_count": 18,
   "metadata": {},
   "outputs": [
    {
     "name": "stderr",
     "output_type": "stream",
     "text": [
      "Using TensorFlow backend.\n"
     ]
    },
    {
     "name": "stdout",
     "output_type": "stream",
     "text": [
      "Found 9 unique tokens.\n"
     ]
    }
   ],
   "source": [
    "# 用Keras实现单词级的one-hot编码\n",
    "from keras.preprocessing.text import Tokenizer\n",
    "\n",
    "samples = ['The cat sat on the mat.', 'The dog ate my homework.']\n",
    "\n",
    "tokenizer = Tokenizer(num_words=1000) # 创建一个分词器(tokenizer)，设置为只考虑前1000个最常见的单词\n",
    "tokenizer.fit_on_texts(samples) # 构建单词索引\n",
    "\n",
    "sequences = tokenizer.texts_to_sequences(samples) # 将字符串转换为整数索引组成的列表\n",
    "\n",
    "one_hot_results = tokenizer.texts_to_matrix(samples, mode='binary') # 也可以直接得到one-hot二进制表示。\n",
    "                                                                    # 这个分词器也支持除one-hot编码外的其他向量化模式\n",
    "word_index = tokenizer.word_index # 找回单词索引\n",
    "print('Found %s unique tokens.' % len(word_index))"
   ]
  },
  {
   "cell_type": "code",
   "execution_count": 21,
   "metadata": {},
   "outputs": [
    {
     "data": {
      "text/plain": [
       "[[1, 2, 3, 4, 1, 5], [1, 6, 7, 8, 9]]"
      ]
     },
     "execution_count": 21,
     "metadata": {},
     "output_type": "execute_result"
    }
   ],
   "source": [
    "sequences"
   ]
  },
  {
   "cell_type": "code",
   "execution_count": 22,
   "metadata": {
    "scrolled": true
   },
   "outputs": [
    {
     "data": {
      "text/plain": [
       "array([[0., 1., 1., ..., 0., 0., 0.],\n",
       "       [0., 1., 0., ..., 0., 0., 0.]])"
      ]
     },
     "execution_count": 22,
     "metadata": {},
     "output_type": "execute_result"
    }
   ],
   "source": [
    "one_hot_results"
   ]
  },
  {
   "cell_type": "code",
   "execution_count": 23,
   "metadata": {},
   "outputs": [
    {
     "data": {
      "text/plain": [
       "{'ate': 7,\n",
       " 'cat': 2,\n",
       " 'dog': 6,\n",
       " 'homework': 9,\n",
       " 'mat': 5,\n",
       " 'my': 8,\n",
       " 'on': 4,\n",
       " 'sat': 3,\n",
       " 'the': 1}"
      ]
     },
     "execution_count": 23,
     "metadata": {},
     "output_type": "execute_result"
    }
   ],
   "source": [
    "word_index"
   ]
  },
  {
   "cell_type": "code",
   "execution_count": 24,
   "metadata": {},
   "outputs": [],
   "source": [
    "# 使用散列技巧的单词级的one-hot编码（简单示例）\n",
    "samples = ['The cat sat on the mat.', 'The dog ate my homework.']\n",
    "dimensionality = 1000 # 将单词保存为长度为1000的向量。如果单词数量接近1000个（或更多），\n",
    "                      # 那么会遇到很多散列冲突，这回降低这种编码方法的准确性\n",
    "results = np.zeros((len(samples), max_length, dimensionality))\n",
    "for i, sample in enumerate(samples):\n",
    "    for j, word in list(enumerate(sample.split()))[: max_length]:\n",
    "        index = abs(hash(word)) % dimensionality # 将单词散列为0~1000范围的一个随机整数索引\n",
    "        results[i, j, index] = 1."
   ]
  },
  {
   "cell_type": "code",
   "execution_count": 39,
   "metadata": {},
   "outputs": [
    {
     "data": {
      "text/plain": [
       "array([[[0., 0., 0., ..., 0., 0., 0.],\n",
       "        [0., 0., 0., ..., 0., 0., 0.],\n",
       "        [0., 0., 0., ..., 0., 0., 0.],\n",
       "        ...,\n",
       "        [0., 0., 0., ..., 0., 0., 0.],\n",
       "        [0., 0., 0., ..., 0., 0., 0.],\n",
       "        [0., 0., 0., ..., 0., 0., 0.]],\n",
       "\n",
       "       [[0., 0., 0., ..., 0., 0., 0.],\n",
       "        [0., 0., 0., ..., 0., 0., 0.],\n",
       "        [0., 0., 0., ..., 0., 0., 0.],\n",
       "        ...,\n",
       "        [0., 0., 0., ..., 0., 0., 0.],\n",
       "        [0., 0., 0., ..., 0., 0., 0.],\n",
       "        [0., 0., 0., ..., 0., 0., 0.]]])"
      ]
     },
     "execution_count": 39,
     "metadata": {},
     "output_type": "execute_result"
    }
   ],
   "source": [
    "results"
   ]
  },
  {
   "cell_type": "markdown",
   "metadata": {},
   "source": [
    "使用词嵌入"
   ]
  },
  {
   "cell_type": "markdown",
   "metadata": {},
   "source": [
    "1 利用Embedding层学习词嵌入"
   ]
  },
  {
   "cell_type": "code",
   "execution_count": 40,
   "metadata": {},
   "outputs": [],
   "source": [
    "# 将一个Embedding层实例化\n",
    "from keras.layers import Embedding\n",
    "\n",
    "embedding_layer = Embedding(1000, 64) # Embedding层至少需要两个参数：标记的个数\n",
    "                                      # （这里是1000，即最大单词索引+1）和嵌入的维度（这里是64）\n"
   ]
  },
  {
   "cell_type": "code",
   "execution_count": 46,
   "metadata": {},
   "outputs": [],
   "source": [
    "# 加载IMDB数据，准备用于Embedding层\n",
    "from keras.datasets import imdb\n",
    "from keras.preprocessing import sequence\n",
    "max_features = 10000 # 作为特征的单词个数\n",
    "maxlen = 20 # 在这么多单词后截断文本（这些单词都属于前max_features个最常见的单词）\n",
    "\n",
    "(x_train, y_train), (x_test, y_test) = imdb.load_data(num_words=max_features) # 将数据加载为整数列表\n",
    "\n",
    "x_train = sequence.pad_sequences(x_train, maxlen=maxlen) # 将整数列表转换成形状为(samples, maxlen)的二维整数张量\n",
    "x_test = sequence.pad_sequences(x_test, maxlen=maxlen)"
   ]
  },
  {
   "cell_type": "code",
   "execution_count": 47,
   "metadata": {},
   "outputs": [
    {
     "data": {
      "text/plain": [
       "array([[  65,   16,   38, ...,   19,  178,   32],\n",
       "       [  23,    4, 1690, ...,   16,  145,   95],\n",
       "       [1352,   13,  191, ...,    7,  129,  113],\n",
       "       ...,\n",
       "       [  11, 1818, 7561, ...,    4, 3586,    2],\n",
       "       [  92,  401,  728, ...,   12,    9,   23],\n",
       "       [ 764,   40,    4, ...,  204,  131,    9]])"
      ]
     },
     "execution_count": 47,
     "metadata": {},
     "output_type": "execute_result"
    }
   ],
   "source": [
    "x_train"
   ]
  },
  {
   "cell_type": "code",
   "execution_count": 49,
   "metadata": {},
   "outputs": [
    {
     "name": "stdout",
     "output_type": "stream",
     "text": [
      "_________________________________________________________________\n",
      "Layer (type)                 Output Shape              Param #   \n",
      "=================================================================\n",
      "embedding_2 (Embedding)      (None, 20, 8)             80000     \n",
      "_________________________________________________________________\n",
      "flatten_1 (Flatten)          (None, 160)               0         \n",
      "_________________________________________________________________\n",
      "dense_1 (Dense)              (None, 1)                 161       \n",
      "=================================================================\n",
      "Total params: 80,161\n",
      "Trainable params: 80,161\n",
      "Non-trainable params: 0\n",
      "_________________________________________________________________\n",
      "Train on 20000 samples, validate on 5000 samples\n",
      "Epoch 1/10\n",
      "20000/20000 [==============================] - 6s 308us/step - loss: 0.6759 - acc: 0.6050 - val_loss: 0.6398 - val_acc: 0.6814\n",
      "Epoch 2/10\n",
      "20000/20000 [==============================] - 3s 134us/step - loss: 0.5657 - acc: 0.7427 - val_loss: 0.5467 - val_acc: 0.7206\n",
      "Epoch 3/10\n",
      "20000/20000 [==============================] - 3s 135us/step - loss: 0.4752 - acc: 0.7808 - val_loss: 0.5113 - val_acc: 0.7384\n",
      "Epoch 4/10\n",
      "20000/20000 [==============================] - 3s 135us/step - loss: 0.4263 - acc: 0.8077 - val_loss: 0.5008 - val_acc: 0.7452\n",
      "Epoch 5/10\n",
      "20000/20000 [==============================] - 3s 133us/step - loss: 0.3930 - acc: 0.8258 - val_loss: 0.4981 - val_acc: 0.7538\n",
      "Epoch 6/10\n",
      "20000/20000 [==============================] - 3s 134us/step - loss: 0.3668 - acc: 0.8395 - val_loss: 0.5014 - val_acc: 0.7530\n",
      "Epoch 7/10\n",
      "20000/20000 [==============================] - 3s 134us/step - loss: 0.3435 - acc: 0.8533 - val_loss: 0.5052 - val_acc: 0.7520\n",
      "Epoch 8/10\n",
      "20000/20000 [==============================] - 3s 133us/step - loss: 0.3223 - acc: 0.8657 - val_loss: 0.5132 - val_acc: 0.7486\n",
      "Epoch 9/10\n",
      "20000/20000 [==============================] - 3s 133us/step - loss: 0.3022 - acc: 0.8766 - val_loss: 0.5213 - val_acc: 0.7490\n",
      "Epoch 10/10\n",
      "20000/20000 [==============================] - 3s 134us/step - loss: 0.2839 - acc: 0.8860 - val_loss: 0.5303 - val_acc: 0.7466\n"
     ]
    }
   ],
   "source": [
    "# 在IMDB数据上使用Embedding层和分类器\n",
    "from keras.models import Sequential\n",
    "from keras.layers import Flatten, Dense, Embedding\n",
    "\n",
    "model = Sequential()\n",
    "model.add(Embedding(10000, 8, input_length=maxlen)) # 指定Embedding层的最大输入长度，以便后面将嵌入输入展平。\n",
    "                                                    # Embedding层激活的形状为(samples, maxlen, 8)\n",
    "model.add(Flatten()) # 将三维的嵌入张量展平成形状为(samples, maxlen * 8)的二维张量\n",
    "\n",
    "model.add(Dense(1, activation='sigmoid')) # 在上面添加分类器\n",
    "model.compile(optimizer='rmsprop', loss='binary_crossentropy', metrics=['acc'])\n",
    "model.summary()\n",
    "\n",
    "history = model.fit(x_train, y_train,\n",
    "                    epochs=10,\n",
    "                    batch_size=32,\n",
    "                    validation_split=0.2)"
   ]
  },
  {
   "cell_type": "markdown",
   "metadata": {},
   "source": [
    "2 使用预训练的词嵌入"
   ]
  },
  {
   "cell_type": "markdown",
   "metadata": {},
   "source": [
    "整合在一起：从原始文本到词嵌入"
   ]
  },
  {
   "cell_type": "code",
   "execution_count": 1,
   "metadata": {},
   "outputs": [],
   "source": [
    "# 处理IMDB原始数据的标签\n",
    "import os\n",
    "\n",
    "imdb_dir = 'aclImdb'\n",
    "train_dir = os.path.join(imdb_dir, 'train')\n",
    "\n",
    "labels = []\n",
    "texts = []\n",
    "\n",
    "for label_type in ['neg', 'pos']:\n",
    "    dir_name = os.path.join(train_dir, label_type)\n",
    "    for fname in os.listdir(dir_name):\n",
    "        if fname[-4:] == '.txt':\n",
    "            f = open(os.path.join(dir_name, fname), encoding='utf-8')\n",
    "            texts.append(f.read())\n",
    "            if label_type == 'neg':\n",
    "                labels.append(0)\n",
    "            else:\n",
    "                labels.append(1)"
   ]
  },
  {
   "cell_type": "code",
   "execution_count": 13,
   "metadata": {},
   "outputs": [
    {
     "name": "stdout",
     "output_type": "stream",
     "text": [
      "Found 88582 unique tokens.\n",
      "Shape of data tensor: (25000, 100)\n",
      "Shape of label tensor: (25000,)\n"
     ]
    }
   ],
   "source": [
    "# 对IMDB原始数据的文本进行分词\n",
    "from keras.preprocessing.text import Tokenizer\n",
    "from keras.preprocessing.sequence import pad_sequences\n",
    "import numpy as np\n",
    "\n",
    "maxlen = 100 # 在100个单词后截断评论\n",
    "training_samples = 200 # 在200个样本上训练\n",
    "validation_samples = 10000 # 在10000个样本上验证\n",
    "max_words = 10000 # 只考虑数据集中前10000个最常见的单词\n",
    "\n",
    "tokenizer = Tokenizer(num_words=max_words)\n",
    "tokenizer.fit_on_texts(texts)\n",
    "sequences = tokenizer.texts_to_sequences(texts)\n",
    "\n",
    "word_index = tokenizer.word_index\n",
    "print('Found %s unique tokens.' % len(word_index))\n",
    "\n",
    "data = pad_sequences(sequences, maxlen=maxlen)\n",
    "\n",
    "labels = np.asarray(labels)\n",
    "print('Shape of data tensor:', data.shape)\n",
    "print('Shape of label tensor:', labels.shape)\n",
    "\n",
    "indices = np.arange(data.shape[0]) # 将数据划分为训练集和验证集，但首先要打乱数据，因为一开始\n",
    "                                    # 数据中的样本是排好序的（所有负面评论都在前面，然后是所有的正面评论）\n",
    "np.random.shuffle(indices)\n",
    "data = data[indices]\n",
    "labels = labels[indices]\n",
    "\n",
    "x_train = data[:training_samples]\n",
    "y_train = labels[:training_samples]\n",
    "x_val = data[training_samples: training_samples + validation_samples]\n",
    "y_val = labels[training_samples: training_samples + validation_samples]"
   ]
  },
  {
   "cell_type": "code",
   "execution_count": 14,
   "metadata": {},
   "outputs": [
    {
     "name": "stdout",
     "output_type": "stream",
     "text": [
      "Found 400000 word vectors.\n"
     ]
    }
   ],
   "source": [
    "# 解析GloVe词嵌入文件\n",
    "glove_dir = 'glove.6B'\n",
    "\n",
    "embeddings_index = { }\n",
    "f = open(os.path.join(glove_dir, 'glove.6B.100d.txt'), encoding='utf-8')\n",
    "for line in f:\n",
    "    values = line.split()\n",
    "    word = values[0]\n",
    "    coefs = np.asarray(values[1:], dtype='float32')\n",
    "    embeddings_index[word] = coefs\n",
    "f.close()\n",
    "\n",
    "print('Found %s word vectors.' % len(embeddings_index))"
   ]
  },
  {
   "cell_type": "code",
   "execution_count": 15,
   "metadata": {},
   "outputs": [
    {
     "data": {
      "text/plain": [
       "['the', ',', '.', 'of', 'to', 'and', 'in', 'a', '\"', \"'s\"]"
      ]
     },
     "execution_count": 15,
     "metadata": {},
     "output_type": "execute_result"
    }
   ],
   "source": [
    "list(embeddings_index.keys())[:10]"
   ]
  },
  {
   "cell_type": "code",
   "execution_count": 16,
   "metadata": {},
   "outputs": [
    {
     "data": {
      "text/plain": [
       "(100,)"
      ]
     },
     "execution_count": 16,
     "metadata": {},
     "output_type": "execute_result"
    }
   ],
   "source": [
    "list(embeddings_index.values())[0].shape"
   ]
  },
  {
   "cell_type": "code",
   "execution_count": 17,
   "metadata": {},
   "outputs": [],
   "source": [
    "# 准备GloVe词嵌入矩阵\n",
    "embedding_dim = 100\n",
    "\n",
    "embedding_matrix = np.zeros((max_words, embedding_dim))\n",
    "for word, i in word_index.items():\n",
    "    if i < max_words:\n",
    "        embedding_vector = embeddings_index.get(word)\n",
    "        if embedding_vector is not None:\n",
    "            embedding_matrix[i] = embedding_vector # 嵌入索引(embedding_index)中找不到的词，其嵌入向量全为0"
   ]
  },
  {
   "cell_type": "code",
   "execution_count": 18,
   "metadata": {},
   "outputs": [
    {
     "name": "stdout",
     "output_type": "stream",
     "text": [
      "_________________________________________________________________\n",
      "Layer (type)                 Output Shape              Param #   \n",
      "=================================================================\n",
      "embedding_2 (Embedding)      (None, 100, 100)          1000000   \n",
      "_________________________________________________________________\n",
      "flatten_2 (Flatten)          (None, 10000)             0         \n",
      "_________________________________________________________________\n",
      "dense_3 (Dense)              (None, 32)                320032    \n",
      "_________________________________________________________________\n",
      "dense_4 (Dense)              (None, 1)                 33        \n",
      "=================================================================\n",
      "Total params: 1,320,065\n",
      "Trainable params: 1,320,065\n",
      "Non-trainable params: 0\n",
      "_________________________________________________________________\n"
     ]
    }
   ],
   "source": [
    "# 模型定义\n",
    "from keras.models import Sequential\n",
    "from keras.layers import Embedding, Flatten, Dense\n",
    "\n",
    "model = Sequential()\n",
    "model.add(Embedding(max_words, embedding_dim, input_length=maxlen))\n",
    "model.add(Flatten())\n",
    "model.add(Dense(32, activation='relu'))\n",
    "model.add(Dense(1, activation='sigmoid'))\n",
    "model.summary()"
   ]
  },
  {
   "cell_type": "code",
   "execution_count": 19,
   "metadata": {},
   "outputs": [],
   "source": [
    "# 将预训练的词嵌入加载到Embedding层中\n",
    "model.layers[0].set_weights([embedding_matrix])\n",
    "model.layers[0].trainable = False"
   ]
  },
  {
   "cell_type": "code",
   "execution_count": 20,
   "metadata": {
    "scrolled": false
   },
   "outputs": [
    {
     "name": "stdout",
     "output_type": "stream",
     "text": [
      "Train on 200 samples, validate on 10000 samples\n",
      "Epoch 1/10\n",
      "200/200 [==============================] - 1s 5ms/step - loss: 1.6885 - acc: 0.4500 - val_loss: 0.6991 - val_acc: 0.4948\n",
      "Epoch 2/10\n",
      "200/200 [==============================] - 1s 4ms/step - loss: 0.6041 - acc: 0.6700 - val_loss: 0.6952 - val_acc: 0.5039\n",
      "Epoch 3/10\n",
      "200/200 [==============================] - 1s 3ms/step - loss: 0.5523 - acc: 0.7800 - val_loss: 0.6969 - val_acc: 0.5077\n",
      "Epoch 4/10\n",
      "200/200 [==============================] - 1s 3ms/step - loss: 0.4865 - acc: 0.8350 - val_loss: 0.7413 - val_acc: 0.5044\n",
      "Epoch 5/10\n",
      "200/200 [==============================] - 1s 3ms/step - loss: 0.3255 - acc: 0.9700 - val_loss: 0.7364 - val_acc: 0.5034\n",
      "Epoch 6/10\n",
      "200/200 [==============================] - 1s 3ms/step - loss: 0.3662 - acc: 0.8500 - val_loss: 0.7676 - val_acc: 0.5098\n",
      "Epoch 7/10\n",
      "200/200 [==============================] - 1s 3ms/step - loss: 0.2079 - acc: 1.0000 - val_loss: 0.7461 - val_acc: 0.5063\n",
      "Epoch 8/10\n",
      "200/200 [==============================] - 1s 3ms/step - loss: 0.1831 - acc: 0.9850 - val_loss: 0.7637 - val_acc: 0.5081\n",
      "Epoch 9/10\n",
      "200/200 [==============================] - 1s 3ms/step - loss: 0.1192 - acc: 1.0000 - val_loss: 0.9052 - val_acc: 0.5065\n",
      "Epoch 10/10\n",
      "200/200 [==============================] - 1s 3ms/step - loss: 0.0877 - acc: 1.0000 - val_loss: 1.1294 - val_acc: 0.4960\n"
     ]
    }
   ],
   "source": [
    "# 训练与评估\n",
    "model.compile(optimizer='rmsprop',\n",
    "              loss='binary_crossentropy',\n",
    "              metrics=['acc'])\n",
    "history = model.fit(x_train, y_train,\n",
    "                    epochs=10,\n",
    "                    batch_size=32,\n",
    "                    validation_data=(x_val, y_val))\n",
    "model.save_weights('pre_trained_glove_model.h5')"
   ]
  },
  {
   "cell_type": "code",
   "execution_count": 21,
   "metadata": {},
   "outputs": [
    {
     "data": {
      "image/png": "[encoded data removed]",
      "text/plain": [
       "<Figure size 432x288 with 1 Axes>"
      ]
     },
     "metadata": {},
     "output_type": "display_data"
    },
    {
     "data": {
      "image/png": "[encoded data removed]",
      "text/plain": [
       "<Figure size 432x288 with 1 Axes>"
      ]
     },
     "metadata": {},
     "output_type": "display_data"
    }
   ],
   "source": [
    "# 绘制结果\n",
    "%matplotlib inline\n",
    "import matplotlib.pyplot as plt\n",
    "\n",
    "acc = history.history['acc']\n",
    "val_acc = history.history['val_acc']\n",
    "loss = history.history['loss']\n",
    "val_loss = history.history['val_loss']\n",
    "\n",
    "epochs = range(1, len(acc) + 1)\n",
    "\n",
    "plt.plot(epochs, acc, 'bo', label='Training acc')\n",
    "plt.plot(epochs, val_acc, 'b', label='Validation acc')\n",
    "plt.title('Traning and validation accuracy')\n",
    "plt.legend()\n",
    "\n",
    "plt.figure()\n",
    "\n",
    "plt.plot(epochs, loss, 'bo', label='Training loss')\n",
    "plt.plot(epochs, val_loss, 'b', label='Validation loss')\n",
    "plt.title('Training and validation loss')\n",
    "plt.legend()\n",
    "\n",
    "plt.show()"
   ]
  },
  {
   "cell_type": "code",
   "execution_count": 22,
   "metadata": {},
   "outputs": [
    {
     "name": "stdout",
     "output_type": "stream",
     "text": [
      "_________________________________________________________________\n",
      "Layer (type)                 Output Shape              Param #   \n",
      "=================================================================\n",
      "embedding_3 (Embedding)      (None, 100, 100)          1000000   \n",
      "_________________________________________________________________\n",
      "flatten_3 (Flatten)          (None, 10000)             0         \n",
      "_________________________________________________________________\n",
      "dense_5 (Dense)              (None, 32)                320032    \n",
      "_________________________________________________________________\n",
      "dense_6 (Dense)              (None, 1)                 33        \n",
      "=================================================================\n",
      "Total params: 1,320,065\n",
      "Trainable params: 1,320,065\n",
      "Non-trainable params: 0\n",
      "_________________________________________________________________\n",
      "Train on 200 samples, validate on 10000 samples\n",
      "Epoch 1/10\n",
      "200/200 [==============================] - 1s 6ms/step - loss: 0.6972 - acc: 0.4050 - val_loss: 0.6944 - val_acc: 0.5041\n",
      "Epoch 2/10\n",
      "200/200 [==============================] - 1s 4ms/step - loss: 0.5178 - acc: 0.9650 - val_loss: 0.7073 - val_acc: 0.5018\n",
      "Epoch 3/10\n",
      "200/200 [==============================] - 1s 4ms/step - loss: 0.2941 - acc: 0.9750 - val_loss: 0.7124 - val_acc: 0.5058\n",
      "Epoch 4/10\n",
      "200/200 [==============================] - 1s 3ms/step - loss: 0.1198 - acc: 1.0000 - val_loss: 0.7286 - val_acc: 0.4961\n",
      "Epoch 5/10\n",
      "200/200 [==============================] - 1s 3ms/step - loss: 0.0552 - acc: 1.0000 - val_loss: 0.7281 - val_acc: 0.4984\n",
      "Epoch 6/10\n",
      "200/200 [==============================] - 1s 3ms/step - loss: 0.0270 - acc: 1.0000 - val_loss: 0.7353 - val_acc: 0.4988\n",
      "Epoch 7/10\n",
      "200/200 [==============================] - 1s 3ms/step - loss: 0.0149 - acc: 1.0000 - val_loss: 0.7524 - val_acc: 0.4998\n",
      "Epoch 8/10\n",
      "200/200 [==============================] - 1s 3ms/step - loss: 0.0087 - acc: 1.0000 - val_loss: 0.7542 - val_acc: 0.4990\n",
      "Epoch 9/10\n",
      "200/200 [==============================] - 1s 3ms/step - loss: 0.0053 - acc: 1.0000 - val_loss: 0.7714 - val_acc: 0.4982\n",
      "Epoch 10/10\n",
      "200/200 [==============================] - 1s 3ms/step - loss: 0.0032 - acc: 1.0000 - val_loss: 0.7798 - val_acc: 0.4991\n"
     ]
    }
   ],
   "source": [
    "# 在不使用预训练词嵌入的情况下，训练相同的模型\n",
    "from keras.models import Sequential\n",
    "from keras.layers import Embedding, Flatten, Dense\n",
    "\n",
    "model = Sequential()\n",
    "model.add(Embedding(max_words, embedding_dim, input_length=maxlen))\n",
    "model.add(Flatten())\n",
    "model.add(Dense(32, activation='relu'))\n",
    "model.add(Dense(1, activation='sigmoid'))\n",
    "model.summary()\n",
    "\n",
    "model.compile(optimizer='rmsprop',\n",
    "              loss='binary_crossentropy',\n",
    "              metrics=['acc'])\n",
    "history = model.fit(x_train, y_train,\n",
    "                    epochs=10,\n",
    "                    batch_size=32,\n",
    "                    validation_data=(x_val, y_val))"
   ]
  },
  {
   "cell_type": "code",
   "execution_count": 23,
   "metadata": {},
   "outputs": [
    {
     "data": {
      "image/png": "[encoded data removed]",
      "text/plain": [
       "<Figure size 432x288 with 1 Axes>"
      ]
     },
     "metadata": {},
     "output_type": "display_data"
    },
    {
     "data": {
      "image/png": "[encoded data removed]",
      "text/plain": [
       "<Figure size 432x288 with 1 Axes>"
      ]
     },
     "metadata": {},
     "output_type": "display_data"
    }
   ],
   "source": [
    "# 绘制结果\n",
    "%matplotlib inline\n",
    "import matplotlib.pyplot as plt\n",
    "\n",
    "acc = history.history['acc']\n",
    "val_acc = history.history['val_acc']\n",
    "loss = history.history['loss']\n",
    "val_loss = history.history['val_loss']\n",
    "\n",
    "epochs = range(1, len(acc) + 1)\n",
    "\n",
    "plt.plot(epochs, acc, 'bo', label='Training acc')\n",
    "plt.plot(epochs, val_acc, 'b', label='Validation acc')\n",
    "plt.title('Traning and validation accuracy')\n",
    "plt.legend()\n",
    "\n",
    "plt.figure()\n",
    "\n",
    "plt.plot(epochs, loss, 'bo', label='Training loss')\n",
    "plt.plot(epochs, val_loss, 'b', label='Validation loss')\n",
    "plt.title('Training and validation loss')\n",
    "plt.legend()\n",
    "\n",
    "plt.show()"
   ]
  },
  {
   "cell_type": "code",
   "execution_count": 35,
   "metadata": {},
   "outputs": [],
   "source": [
    "# 对测试集数据进行粉刺\n",
    "test_dir = os.path.join(imdb_dir, 'test')\n",
    "\n",
    "labels = []\n",
    "texts = []\n",
    "\n",
    "for label_type in ['neg', 'pos']:\n",
    "    dir_name = os.path.join(test_dir, label_type)\n",
    "    for fname in sorted(os.listdir(dir_name)):\n",
    "        if fname[-4:] == '.txt':\n",
    "            f = open(os.path.join(dir_name, fname), encoding='utf-8')\n",
    "            texts.append(f.read())\n",
    "            f.close()\n",
    "            if label_type == 'neg':\n",
    "                labels.append(0)\n",
    "            else:\n",
    "                labels.append(1)\n",
    "                \n",
    "sequence = tokenizer.texts_to_sequences(texts)\n",
    "x_test = pad_sequences(sequences, maxlen=maxlen)\n",
    "y_test = np.asarray(labels)"
   ]
  },
  {
   "cell_type": "code",
   "execution_count": 36,
   "metadata": {},
   "outputs": [
    {
     "name": "stdout",
     "output_type": "stream",
     "text": [
      "25000/25000 [==============================] - 2s 62us/step\n"
     ]
    },
    {
     "data": {
      "text/plain": [
       "[1.1448048040676118, 0.4972]"
      ]
     },
     "execution_count": 36,
     "metadata": {},
     "output_type": "execute_result"
    }
   ],
   "source": [
    "# 在测试集上评估模型\n",
    "model.load_weights('pre_trained_glove_model.h5')\n",
    "model.evaluate(x_test, y_test)"
   ]
  },
  {
   "cell_type": "markdown",
   "metadata": {},
   "source": [
    "**6.2 理解循环神经网络**"
   ]
  },
  {
   "cell_type": "code",
   "execution_count": 37,
   "metadata": {},
   "outputs": [],
   "source": [
    "# RNN伪代码\n",
    "def RNN_0():\n",
    "    state_t = 0 # t时刻的状态\n",
    "    for input_t in input_sequence: # 对序列元素进行遍历\n",
    "        output_t = f(input_t, state_t)\n",
    "        state_t = output_t # 前一次的输出变成下一次迭代的状态"
   ]
  },
  {
   "cell_type": "code",
   "execution_count": 1,
   "metadata": {},
   "outputs": [],
   "source": [
    "# 更详细的RNN伪代码\n",
    "def RNN_1():\n",
    "    state_t = 0\n",
    "    for input_t in input_sequence:\n",
    "        output_t = activation(dot(W, input_t) + dot(U, state_t) + b)\n",
    "        state_t = output_t"
   ]
  },
  {
   "cell_type": "code",
   "execution_count": 4,
   "metadata": {},
   "outputs": [],
   "source": [
    "# 简单的RNN的Numpy实现\n",
    "import numpy as np\n",
    "\n",
    "timesteps = 100 # 输入序列的时间步数\n",
    "input_features = 32 # 输入特征空间的维度\n",
    "output_features = 64 # 输出特征空间的维度\n",
    "\n",
    "inputs = np.random.random((timesteps, input_features)) # 输入数据：随机噪声，仅作为示例\n",
    "\n",
    "state_t = np.zeros((output_features,)) # 初始状态：全零向量\n",
    "\n",
    "# 创建随机的权重矩阵\n",
    "W = np.random.random((output_features, input_features))\n",
    "U = np.random.random((output_features, output_features))\n",
    "b = np.random.random((output_features,))\n",
    "\n",
    "successive_outputs = []\n",
    "for input_t in inputs: # input_t是形状为(input_features,)的向量\n",
    "    output_t = np.tanh(np.dot(W, input_t) + np.dot(U, state_t) + b) # 由输入和当前状态（前一个输出）\n",
    "                                                                    # 计算得到当前输出\n",
    "    successive_outputs.append(output_t) # 将这个输出保存到一个列表中\n",
    "        \n",
    "    state_t = output_t # 更新网络的状态，用于下一个时间步\n",
    "        \n",
    "final_output_sequence = np.stack(successive_outputs, axis=0) # 最终输出是一个形状为(timesteps, output_features)的二维张量"
   ]
  },
  {
   "cell_type": "markdown",
   "metadata": {},
   "source": [
    "Keras中的SimpleRNN层可以实现循环层"
   ]
  },
  {
   "cell_type": "code",
   "execution_count": 22,
   "metadata": {},
   "outputs": [
    {
     "name": "stderr",
     "output_type": "stream",
     "text": [
      "Using TensorFlow backend.\n"
     ]
    },
    {
     "name": "stdout",
     "output_type": "stream",
     "text": [
      "_________________________________________________________________\n",
      "Layer (type)                 Output Shape              Param #   \n",
      "=================================================================\n",
      "embedding_1 (Embedding)      (None, None, 32)          320000    \n",
      "_________________________________________________________________\n",
      "simple_rnn_1 (SimpleRNN)     (None, 32)                2080      \n",
      "=================================================================\n",
      "Total params: 322,080\n",
      "Trainable params: 322,080\n",
      "Non-trainable params: 0\n",
      "_________________________________________________________________\n"
     ]
    }
   ],
   "source": [
    "# 只返回最后一个时间步的输出\n",
    "from keras.models import Sequential\n",
    "from keras.layers import Embedding, SimpleRNN\n",
    "\n",
    "model = Sequential()\n",
    "model.add(Embedding(10000, 32))\n",
    "model.add(SimpleRNN(32))\n",
    "model.summary()"
   ]
  },
  {
   "cell_type": "code",
   "execution_count": 23,
   "metadata": {},
   "outputs": [
    {
     "name": "stdout",
     "output_type": "stream",
     "text": [
      "_________________________________________________________________\n",
      "Layer (type)                 Output Shape              Param #   \n",
      "=================================================================\n",
      "embedding_2 (Embedding)      (None, None, 32)          320000    \n",
      "_________________________________________________________________\n",
      "simple_rnn_2 (SimpleRNN)     (None, None, 32)          2080      \n",
      "=================================================================\n",
      "Total params: 322,080\n",
      "Trainable params: 322,080\n",
      "Non-trainable params: 0\n",
      "_________________________________________________________________\n"
     ]
    }
   ],
   "source": [
    "# 返回完整的状态序列\n",
    "model = Sequential()\n",
    "model.add(Embedding(10000, 32))\n",
    "model.add(SimpleRNN(32, return_sequences=True))\n",
    "model.summary()"
   ]
  },
  {
   "cell_type": "code",
   "execution_count": 24,
   "metadata": {},
   "outputs": [
    {
     "name": "stdout",
     "output_type": "stream",
     "text": [
      "_________________________________________________________________\n",
      "Layer (type)                 Output Shape              Param #   \n",
      "=================================================================\n",
      "embedding_3 (Embedding)      (None, None, 32)          320000    \n",
      "_________________________________________________________________\n",
      "simple_rnn_3 (SimpleRNN)     (None, None, 32)          2080      \n",
      "_________________________________________________________________\n",
      "simple_rnn_4 (SimpleRNN)     (None, None, 32)          2080      \n",
      "_________________________________________________________________\n",
      "simple_rnn_5 (SimpleRNN)     (None, None, 32)          2080      \n",
      "_________________________________________________________________\n",
      "simple_rnn_6 (SimpleRNN)     (None, 32)                2080      \n",
      "=================================================================\n",
      "Total params: 328,320\n",
      "Trainable params: 328,320\n",
      "Non-trainable params: 0\n",
      "_________________________________________________________________\n"
     ]
    }
   ],
   "source": [
    "# 多个循环层逐个堆叠，让所有中间层都返回完整的输出序列\n",
    "model = Sequential()\n",
    "model.add(Embedding(10000, 32))\n",
    "model.add(SimpleRNN(32, return_sequences=True))\n",
    "model.add(SimpleRNN(32, return_sequences=True))\n",
    "model.add(SimpleRNN(32, return_sequences=True))\n",
    "model.add(SimpleRNN(32))\n",
    "model.summary() # 最后一层仅返回最终输出"
   ]
  },
  {
   "cell_type": "markdown",
   "metadata": {},
   "source": [
    "用上面的模型应用于IMDB电影评论分类问题"
   ]
  },
  {
   "cell_type": "code",
   "execution_count": 25,
   "metadata": {},
   "outputs": [
    {
     "name": "stdout",
     "output_type": "stream",
     "text": [
      "Loading data...\n",
      "25000 train sequences\n",
      "25000 test sequences\n",
      "Pad sequences (samples x time)\n",
      "input_train shape: (25000, 500)\n",
      "input_test shape: (25000, 500)\n"
     ]
    }
   ],
   "source": [
    "# 准备IMDB数据\n",
    "from keras.datasets import imdb\n",
    "from keras.preprocessing import sequence\n",
    "\n",
    "max_features = 10000 # 作为特征的单词个数\n",
    "maxlen = 500 # 在这么多单词之后截断文本（这些单词都是属于前max_features个最常见的单词）\n",
    "batch_size = 32\n",
    "\n",
    "print('Loading data...')\n",
    "(input_train, y_train), (input_test, y_test) = imdb.load_data(num_words=max_features)\n",
    "print(len(input_train), 'train sequences')\n",
    "print(len(input_test), 'test sequences')\n",
    "\n",
    "print('Pad sequences (samples x time)')\n",
    "input_train = sequence.pad_sequences(input_train, maxlen=maxlen)\n",
    "input_test = sequence.pad_sequences(input_test, maxlen=maxlen)\n",
    "print('input_train shape:', input_train.shape)\n",
    "print('input_test shape:', input_test.shape)"
   ]
  },
  {
   "cell_type": "code",
   "execution_count": 27,
   "metadata": {},
   "outputs": [
    {
     "name": "stdout",
     "output_type": "stream",
     "text": [
      "Train on 20000 samples, validate on 5000 samples\n",
      "Epoch 1/10\n",
      "20000/20000 [==============================] - 42s 2ms/step - loss: 0.5729 - acc: 0.6903 - val_loss: 0.4011 - val_acc: 0.8340\n",
      "Epoch 2/10\n",
      "20000/20000 [==============================] - 35s 2ms/step - loss: 0.3678 - acc: 0.8491 - val_loss: 0.3779 - val_acc: 0.8418\n",
      "Epoch 3/10\n",
      "20000/20000 [==============================] - 36s 2ms/step - loss: 0.2808 - acc: 0.8908 - val_loss: 0.3534 - val_acc: 0.8524\n",
      "Epoch 4/10\n",
      "20000/20000 [==============================] - 36s 2ms/step - loss: 0.2327 - acc: 0.9114 - val_loss: 0.4443 - val_acc: 0.7860\n",
      "Epoch 5/10\n",
      "20000/20000 [==============================] - 35s 2ms/step - loss: 0.1903 - acc: 0.9292 - val_loss: 0.4030 - val_acc: 0.8382\n",
      "Epoch 6/10\n",
      "20000/20000 [==============================] - 39s 2ms/step - loss: 0.1484 - acc: 0.9470 - val_loss: 0.3590 - val_acc: 0.8670\n",
      "Epoch 7/10\n",
      "20000/20000 [==============================] - 43s 2ms/step - loss: 0.1140 - acc: 0.9601 - val_loss: 0.4129 - val_acc: 0.8600\n",
      "Epoch 8/10\n",
      "20000/20000 [==============================] - 39s 2ms/step - loss: 0.0790 - acc: 0.9738 - val_loss: 0.4908 - val_acc: 0.8254\n",
      "Epoch 9/10\n",
      "20000/20000 [==============================] - 40s 2ms/step - loss: 0.0626 - acc: 0.9816 - val_loss: 0.4783 - val_acc: 0.8270\n",
      "Epoch 10/10\n",
      "20000/20000 [==============================] - 42s 2ms/step - loss: 0.0430 - acc: 0.9873 - val_loss: 0.5148 - val_acc: 0.8530\n"
     ]
    }
   ],
   "source": [
    "# 用Embedding层和SimpleRNN层来训练模型\n",
    "from keras.layers import Dense\n",
    "\n",
    "model = Sequential()\n",
    "model.add(Embedding(max_features, 32))\n",
    "model.add(SimpleRNN(32))\n",
    "model.add(Dense(1, activation='sigmoid'))\n",
    "\n",
    "model.compile(optimizer='rmsprop', loss='binary_crossentropy', metrics=['acc'])\n",
    "history = model.fit(input_train, y_train,\n",
    "                    epochs=10,\n",
    "                    batch_size=128,\n",
    "                    validation_split=0.2)"
   ]
  },
  {
   "cell_type": "code",
   "execution_count": 29,
   "metadata": {},
   "outputs": [
    {
     "data": {
      "image/png": "[encoded data removed]",
      "text/plain": [
       "<Figure size 432x288 with 1 Axes>"
      ]
     },
     "metadata": {},
     "output_type": "display_data"
    },
    {
     "data": {
      "image/png": "[encoded data removed]",
      "text/plain": [
       "<Figure size 432x288 with 1 Axes>"
      ]
     },
     "metadata": {},
     "output_type": "display_data"
    }
   ],
   "source": [
    "# 绘制结果\n",
    "%matplotlib inline\n",
    "import matplotlib.pyplot as plt\n",
    "\n",
    "acc = history.history['acc']\n",
    "val_acc = history.history['val_acc']\n",
    "loss = history.history['loss']\n",
    "val_loss = history.history['val_loss']\n",
    "\n",
    "epochs = range(1, len(acc) + 1)\n",
    "plt.plot(epochs, acc, 'bo', label='Training acc')\n",
    "plt.plot(epochs, val_acc, 'b', label='Validation acc')\n",
    "plt.title('Training and validation accuracy')\n",
    "plt.legend()\n",
    "\n",
    "plt.figure()\n",
    "\n",
    "plt.plot(epochs, loss, 'bo', label='Training loss')\n",
    "plt.plot(epochs, val_loss, 'b', label='Validation loss')\n",
    "plt.title('Training and validation loss')\n",
    "plt.legend()\n",
    "\n",
    "plt.show()"
   ]
  },
  {
   "cell_type": "markdown",
   "metadata": {},
   "source": [
    "理解LSTM层和GRU层"
   ]
  },
  {
   "cell_type": "code",
   "execution_count": 32,
   "metadata": {
    "collapsed": true
   },
   "outputs": [
    {
     "data": {
      "text/plain": [
       "'\\n# LSTM架构的详细伪代码(1/2)\\noutput_t = activation(dot(state_t, Uo) + dot(input_t, Wo) + dot(C_t, Vo) + bo)\\n\\ni_t = activation(dot(state_t, Ui) + dot(input_t, Wi) + bi)\\nf_t = activation(dot(state_t, Uf) + dot(input_t, Wf) + bf)\\nk_t = activation(dot(state_t, Uk) + dot(input_t, Wk) + bk)\\n\\n# LSTM架构的详细伪代码(2/2)\\nc_t+1 = i_t * k_t + c_t * f_t\\n'"
      ]
     },
     "execution_count": 32,
     "metadata": {},
     "output_type": "execute_result"
    }
   ],
   "source": [
    "'''\n",
    "# LSTM架构的详细伪代码(1/2)\n",
    "output_t = activation(dot(state_t, Uo) + dot(input_t, Wo) + dot(C_t, Vo) + bo)\n",
    "\n",
    "i_t = activation(dot(state_t, Ui) + dot(input_t, Wi) + bi)\n",
    "f_t = activation(dot(state_t, Uf) + dot(input_t, Wf) + bf)\n",
    "k_t = activation(dot(state_t, Uk) + dot(input_t, Wk) + bk)\n",
    "\n",
    "# LSTM架构的详细伪代码(2/2)\n",
    "c_t+1 = i_t * k_t + c_t * f_t\n",
    "'''"
   ]
  },
  {
   "cell_type": "markdown",
   "metadata": {},
   "source": [
    "Keras中一个LSTM的具体例子"
   ]
  },
  {
   "cell_type": "code",
   "execution_count": 34,
   "metadata": {},
   "outputs": [
    {
     "name": "stdout",
     "output_type": "stream",
     "text": [
      "Train on 20000 samples, validate on 5000 samples\n",
      "Epoch 1/10\n",
      "20000/20000 [==============================] - 127s 6ms/step - loss: 0.5046 - acc: 0.7606 - val_loss: 0.3320 - val_acc: 0.8650\n",
      "Epoch 2/10\n",
      "20000/20000 [==============================] - 131s 7ms/step - loss: 0.2830 - acc: 0.8880 - val_loss: 0.6646 - val_acc: 0.8014\n",
      "Epoch 3/10\n",
      "20000/20000 [==============================] - 141s 7ms/step - loss: 0.2267 - acc: 0.9152 - val_loss: 0.2996 - val_acc: 0.8700\n",
      "Epoch 4/10\n",
      "20000/20000 [==============================] - 140s 7ms/step - loss: 0.1941 - acc: 0.9277 - val_loss: 0.3348 - val_acc: 0.8518\n",
      "Epoch 5/10\n",
      "20000/20000 [==============================] - 131s 7ms/step - loss: 0.1729 - acc: 0.9365 - val_loss: 0.3249 - val_acc: 0.8840\n",
      "Epoch 6/10\n",
      "20000/20000 [==============================] - 128s 6ms/step - loss: 0.1606 - acc: 0.9430 - val_loss: 0.4019 - val_acc: 0.8774\n",
      "Epoch 7/10\n",
      "20000/20000 [==============================] - 127s 6ms/step - loss: 0.1423 - acc: 0.9500 - val_loss: 0.3490 - val_acc: 0.8836\n",
      "Epoch 8/10\n",
      "20000/20000 [==============================] - 128s 6ms/step - loss: 0.1301 - acc: 0.9543 - val_loss: 0.5577 - val_acc: 0.8546\n",
      "Epoch 9/10\n",
      "20000/20000 [==============================] - 127s 6ms/step - loss: 0.1176 - acc: 0.9587 - val_loss: 0.3351 - val_acc: 0.8588\n",
      "Epoch 10/10\n",
      "20000/20000 [==============================] - 129s 6ms/step - loss: 0.1125 - acc: 0.9614 - val_loss: 0.3638 - val_acc: 0.8834\n"
     ]
    }
   ],
   "source": [
    "# 使用Keras中的LSTM层\n",
    "from keras.layers import LSTM\n",
    "\n",
    "model = Sequential()\n",
    "model.add(Embedding(max_features, 32))\n",
    "model.add(LSTM(32))\n",
    "model.add(Dense(1, activation='sigmoid'))\n",
    "\n",
    "model.compile(optimizer='rmsprop',\n",
    "              loss='binary_crossentropy',\n",
    "              metrics=['acc'])\n",
    "history = model.fit(input_train, y_train,\n",
    "                    epochs=10,\n",
    "                    batch_size=128,\n",
    "                    validation_split=0.2)"
   ]
  },
  {
   "cell_type": "code",
   "execution_count": 35,
   "metadata": {},
   "outputs": [
    {
     "data": {
      "image/png": "[encoded data removed]",
      "text/plain": [
       "<Figure size 432x288 with 1 Axes>"
      ]
     },
     "metadata": {},
     "output_type": "display_data"
    },
    {
     "data": {
      "image/png": "[encoded data removed]",
      "text/plain": [
       "<Figure size 432x288 with 1 Axes>"
      ]
     },
     "metadata": {},
     "output_type": "display_data"
    }
   ],
   "source": [
    "# 绘制结果\n",
    "%matplotlib inline\n",
    "import matplotlib.pyplot as plt\n",
    "\n",
    "acc = history.history['acc']\n",
    "val_acc = history.history['val_acc']\n",
    "loss = history.history['loss']\n",
    "val_loss = history.history['val_loss']\n",
    "\n",
    "epochs = range(1, len(acc) + 1)\n",
    "plt.plot(epochs, acc, 'bo', label='Training acc')\n",
    "plt.plot(epochs, val_acc, 'b', label='Validation acc')\n",
    "plt.title('Training and validation accuracy')\n",
    "plt.legend()\n",
    "\n",
    "plt.figure()\n",
    "\n",
    "plt.plot(epochs, loss, 'bo', label='Training loss')\n",
    "plt.plot(epochs, val_loss, 'b', label='Validation loss')\n",
    "plt.title('Training and validation loss')\n",
    "plt.legend()\n",
    "\n",
    "plt.show()"
   ]
  },
  {
   "cell_type": "markdown",
   "metadata": {},
   "source": [
    "**6.3 循环神经网络的高级用法**"
   ]
  },
  {
   "cell_type": "markdown",
   "metadata": {},
   "source": [
    "温度预测问题"
   ]
  },
  {
   "cell_type": "code",
   "execution_count": 1,
   "metadata": {},
   "outputs": [
    {
     "name": "stdout",
     "output_type": "stream",
     "text": [
      "['\"Date Time\"', '\"p (mbar)\"', '\"T (degC)\"', '\"Tpot (K)\"', '\"Tdew (degC)\"', '\"rh (%)\"', '\"VPmax (mbar)\"', '\"VPact (mbar)\"', '\"VPdef (mbar)\"', '\"sh (g/kg)\"', '\"H2OC (mmol/mol)\"', '\"rho (g/m**3)\"', '\"wv (m/s)\"', '\"max. wv (m/s)\"', '\"wd (deg)\"']\n",
      "420551\n"
     ]
    }
   ],
   "source": [
    "# 观察耶拿天气数据集的数据\n",
    "import os\n",
    "\n",
    "data_dir = 'jena_climate'\n",
    "fname = os.path.join(data_dir, 'jena_climate_2009_2016.csv')\n",
    "\n",
    "f = open(fname)\n",
    "data = f.read()\n",
    "f.close()\n",
    "\n",
    "lines = data.split('\\n')\n",
    "header = lines[0].split(',')\n",
    "lines = lines[1:]\n",
    "\n",
    "print(header)\n",
    "print(len(lines))"
   ]
  },
  {
   "cell_type": "code",
   "execution_count": 2,
   "metadata": {},
   "outputs": [],
   "source": [
    "# 解析数据\n",
    "import numpy as np\n",
    "\n",
    "float_data = np.zeros((len(lines), len(header) - 1))\n",
    "for i, line in enumerate(lines):\n",
    "    values = [float(x) for x in line.split(',')[1:]]\n",
    "    float_data[i, :] = values"
   ]
  },
  {
   "cell_type": "code",
   "execution_count": 4,
   "metadata": {},
   "outputs": [
    {
     "data": {
      "text/plain": [
       "[<matplotlib.lines.Line2D at 0x18564fe9710>]"
      ]
     },
     "execution_count": 4,
     "metadata": {},
     "output_type": "execute_result"
    },
    {
     "data": {
      "image/png": "[encoded data removed]",
      "text/plain": [
       "<Figure size 432x288 with 1 Axes>"
      ]
     },
     "metadata": {},
     "output_type": "display_data"
    }
   ],
   "source": [
    "%matplotlib inline\n",
    "# 绘制温度时间序列\n",
    "from matplotlib import pyplot as plt\n",
    "\n",
    "temp = float_data[:, 1] # 温度（单位：摄氏度）\n",
    "plt.plot(range(len(temp)), temp)"
   ]
  },
  {
   "cell_type": "code",
   "execution_count": 5,
   "metadata": {
    "scrolled": true
   },
   "outputs": [
    {
     "data": {
      "text/plain": [
       "[<matplotlib.lines.Line2D at 0x185651eef28>]"
      ]
     },
     "execution_count": 5,
     "metadata": {},
     "output_type": "execute_result"
    },
    {
     "data": {
      "image/png": "[encoded data removed]",
      "text/plain": [
       "<Figure size 432x288 with 1 Axes>"
      ]
     },
     "metadata": {},
     "output_type": "display_data"
    }
   ],
   "source": [
    "# 绘制前10天的温度时间序列\n",
    "plt.plot(range(1440), temp[:1440])"
   ]
  },
  {
   "cell_type": "markdown",
   "metadata": {},
   "source": [
    "准备数据"
   ]
  },
  {
   "cell_type": "code",
   "execution_count": 6,
   "metadata": {},
   "outputs": [],
   "source": [
    "# 数据标准话\n",
    "mean = float_data[: 200000].mean(axis=0)\n",
    "float_data -= mean\n",
    "std = float_data[: 200000].std(axis=0)\n",
    "float_data /= std"
   ]
  },
  {
   "cell_type": "code",
   "execution_count": 7,
   "metadata": {},
   "outputs": [],
   "source": [
    "# 生成时间序列样本及其目标的生成器\n",
    "def generator(data, lookback, delay, min_index, max_index,\n",
    "              shuffle=False, batch_size=128, step=6):\n",
    "    if max_index is None:\n",
    "        max_index = len(data) - delay -1\n",
    "    i = min_index + lookback\n",
    "    while 1:\n",
    "        if shuffle:\n",
    "            rows = np.random.randint(min_index + lookback, max_index, size = batch_size)\n",
    "        else:\n",
    "            if i + batch_size >= max_index:\n",
    "                i = min_index + lookback\n",
    "            rows = np.arange(i, min(i + batch_size, max_index))\n",
    "            i += len(rows)\n",
    "            \n",
    "        samples = np.zeros((len(rows), lookback // step, data.shape[-1]))\n",
    "        targets = np.zeros((len(rows),))\n",
    "        for j, row in enumerate(rows):\n",
    "            indices = range(rows[j] - lookback, rows[j], step)\n",
    "            samples[j] = data[indices]\n",
    "            targets[j] = data[rows[j] + delay][1]\n",
    "        yield samples, targets"
   ]
  },
  {
   "cell_type": "code",
   "execution_count": 23,
   "metadata": {},
   "outputs": [],
   "source": [
    "# 准备训练生成器、验证生成器和测试生成器\n",
    "lookback = 1440\n",
    "step = 6\n",
    "delay = 144\n",
    "batch_size = 128\n",
    "\n",
    "train_gen = generator(float_data,\n",
    "                      lookback=lookback,\n",
    "                      delay=delay,\n",
    "                      min_index=0,\n",
    "                      max_index=200000,\n",
    "                      shuffle=True,\n",
    "                      step=step,\n",
    "                      batch_size=batch_size)\n",
    "val_gen = generator(float_data,\n",
    "                    lookback=lookback,\n",
    "                    delay=delay,\n",
    "                    min_index=200001,\n",
    "                    max_index=300000,\n",
    "                    step=step,\n",
    "                    batch_size=batch_size)\n",
    "test_gen = generator(float_data,\n",
    "                     lookback=lookback,\n",
    "                     delay=delay,\n",
    "                     min_index=300001,\n",
    "                     max_index=None,\n",
    "                     step=step,\n",
    "                     batch_size=batch_size)\n",
    "\n",
    "val_steps = (300000 - 200001 - lookback) // batch_size # 为了查看整个验证集，需要从val_gen中抽取多少次\n",
    "\n",
    "test_steps = (len(float_data) - 300001 - lookback) // batch_size # 为了查看整个测试集，需要从test_gen中抽取多少次"
   ]
  },
  {
   "cell_type": "code",
   "execution_count": 9,
   "metadata": {},
   "outputs": [
    {
     "data": {
      "text/plain": [
       "(769, 930)"
      ]
     },
     "execution_count": 9,
     "metadata": {},
     "output_type": "execute_result"
    }
   ],
   "source": [
    "val_steps, test_steps"
   ]
  },
  {
   "cell_type": "markdown",
   "metadata": {},
   "source": [
    "一种基于常识的、非机器学习的基准方法"
   ]
  },
  {
   "cell_type": "code",
   "execution_count": 60,
   "metadata": {},
   "outputs": [
    {
     "name": "stdout",
     "output_type": "stream",
     "text": [
      "0.2897359729905486\n"
     ]
    }
   ],
   "source": [
    "# 计算符合常识的基准方法的MAE\n",
    "def evaluate_naive_method():\n",
    "    batch_maes = []\n",
    "    for step in range(val_steps):\n",
    "        samples, targets = next(val_gen)\n",
    "        preds = samples[:, -1, 1]\n",
    "        mae = np.mean(np.abs(preds - targets)) # 平方绝对误差(MAE)\n",
    "        batch_maes.append(mae)\n",
    "    print(np.mean(batch_maes))\n",
    "    \n",
    "evaluate_naive_method()"
   ]
  },
  {
   "cell_type": "code",
   "execution_count": 62,
   "metadata": {},
   "outputs": [
    {
     "data": {
      "text/plain": [
       "2.5672247338393395"
      ]
     },
     "execution_count": 62,
     "metadata": {},
     "output_type": "execute_result"
    }
   ],
   "source": [
    "# 将MAE转换成摄氏温度误差\n",
    "celsius_mae = 0.29 * std[1]\n",
    "celsius_mae"
   ]
  },
  {
   "cell_type": "markdown",
   "metadata": {},
   "source": [
    "一种基本的机器学习方法"
   ]
  },
  {
   "cell_type": "code",
   "execution_count": 64,
   "metadata": {
    "scrolled": true
   },
   "outputs": [
    {
     "name": "stdout",
     "output_type": "stream",
     "text": [
      "Epoch 1/20\n",
      "500/500 [==============================] - 14s 28ms/step - loss: 1.2458 - val_loss: 0.4922\n",
      "Epoch 2/20\n",
      "500/500 [==============================] - 13s 27ms/step - loss: 0.3972 - val_loss: 0.3279\n",
      "Epoch 3/20\n",
      "500/500 [==============================] - 14s 28ms/step - loss: 0.2888 - val_loss: 0.3520\n",
      "Epoch 4/20\n",
      "500/500 [==============================] - 15s 30ms/step - loss: 0.2688 - val_loss: 0.3081\n",
      "Epoch 5/20\n",
      "500/500 [==============================] - 17s 33ms/step - loss: 0.2542 - val_loss: 0.3593\n",
      "Epoch 6/20\n",
      "500/500 [==============================] - 17s 35ms/step - loss: 0.2456 - val_loss: 0.3266\n",
      "Epoch 7/20\n",
      "500/500 [==============================] - 16s 32ms/step - loss: 0.2380 - val_loss: 0.3202\n",
      "Epoch 8/20\n",
      "500/500 [==============================] - 18s 35ms/step - loss: 0.2314 - val_loss: 0.3340\n",
      "Epoch 9/20\n",
      "500/500 [==============================] - 16s 31ms/step - loss: 0.2278 - val_loss: 0.3252\n",
      "Epoch 10/20\n",
      "500/500 [==============================] - 15s 30ms/step - loss: 0.2232 - val_loss: 0.3464\n",
      "Epoch 11/20\n",
      "500/500 [==============================] - 16s 31ms/step - loss: 0.2190 - val_loss: 0.3196\n",
      "Epoch 12/20\n",
      "500/500 [==============================] - 15s 31ms/step - loss: 0.2161 - val_loss: 0.3422\n",
      "Epoch 13/20\n",
      "500/500 [==============================] - 15s 30ms/step - loss: 0.2109 - val_loss: 0.3249\n",
      "Epoch 14/20\n",
      "500/500 [==============================] - 16s 31ms/step - loss: 0.2080 - val_loss: 0.3322\n",
      "Epoch 15/20\n",
      "500/500 [==============================] - 16s 32ms/step - loss: 0.2078 - val_loss: 0.3492\n",
      "Epoch 16/20\n",
      "500/500 [==============================] - 16s 33ms/step - loss: 0.2048 - val_loss: 0.3382\n",
      "Epoch 17/20\n",
      "500/500 [==============================] - 16s 32ms/step - loss: 0.2033 - val_loss: 0.3287\n",
      "Epoch 18/20\n",
      "500/500 [==============================] - 16s 32ms/step - loss: 0.2003 - val_loss: 0.3686\n",
      "Epoch 19/20\n",
      "500/500 [==============================] - 17s 34ms/step - loss: 0.1997 - val_loss: 0.3490\n",
      "Epoch 20/20\n",
      "500/500 [==============================] - 17s 34ms/step - loss: 0.1986 - val_loss: 0.3628\n"
     ]
    }
   ],
   "source": [
    "# 训练并评估一个密集连接模型\n",
    "from keras.models import Sequential\n",
    "from keras import layers\n",
    "from keras.optimizers import RMSprop\n",
    "\n",
    "model = Sequential()\n",
    "model.add(layers.Flatten(input_shape=(lookback // step, float_data.shape[-1])))\n",
    "model.add(layers.Dense(32, activation='relu'))\n",
    "model.add(layers.Dense(1))\n",
    "\n",
    "model.compile(optimizer=RMSprop(), loss='mae')\n",
    "\n",
    "history = model.fit_generator(train_gen,\n",
    "                              steps_per_epoch=500,\n",
    "                              epochs=20,\n",
    "                              validation_data=val_gen,\n",
    "                              validation_steps=val_steps)"
   ]
  },
  {
   "cell_type": "code",
   "execution_count": 65,
   "metadata": {},
   "outputs": [
    {
     "data": {
      "image/png": "[encoded data removed]",
      "text/plain": [
       "<Figure size 432x288 with 1 Axes>"
      ]
     },
     "metadata": {},
     "output_type": "display_data"
    }
   ],
   "source": [
    "# 绘制结果\n",
    "import matplotlib.pyplot as plt\n",
    "\n",
    "loss = history.history['loss']\n",
    "val_loss = history.history['val_loss']\n",
    "\n",
    "epochs = range(1, len(loss) + 1)\n",
    "\n",
    "plt.figure()\n",
    "\n",
    "plt.plot(epochs, loss, 'bo', label='Training loss')\n",
    "plt.plot(epochs, val_loss, 'b', label='Validation loss')\n",
    "plt.title('Training and validation loss')\n",
    "plt.legend()\n",
    "\n",
    "plt.show()"
   ]
  },
  {
   "cell_type": "markdown",
   "metadata": {},
   "source": [
    "第一个循环网络基准"
   ]
  },
  {
   "cell_type": "code",
   "execution_count": 66,
   "metadata": {
    "scrolled": true
   },
   "outputs": [
    {
     "name": "stdout",
     "output_type": "stream",
     "text": [
      "Epoch 1/20\n",
      "500/500 [==============================] - 212s 423ms/step - loss: 0.3087 - val_loss: 0.2746\n",
      "Epoch 2/20\n",
      "500/500 [==============================] - 207s 414ms/step - loss: 0.2856 - val_loss: 0.2690\n",
      "Epoch 3/20\n",
      "500/500 [==============================] - 205s 410ms/step - loss: 0.2783 - val_loss: 0.2687\n",
      "Epoch 4/20\n",
      "500/500 [==============================] - 211s 423ms/step - loss: 0.2703 - val_loss: 0.2632\n",
      "Epoch 5/20\n",
      "500/500 [==============================] - 206s 411ms/step - loss: 0.2647 - val_loss: 0.2692\n",
      "Epoch 6/20\n",
      "500/500 [==============================] - 205s 411ms/step - loss: 0.2622 - val_loss: 0.2658\n",
      "Epoch 7/20\n",
      "500/500 [==============================] - 206s 413ms/step - loss: 0.2576 - val_loss: 0.2686\n",
      "Epoch 8/20\n",
      "500/500 [==============================] - 210s 419ms/step - loss: 0.2513 - val_loss: 0.2691\n",
      "Epoch 9/20\n",
      "500/500 [==============================] - 204s 408ms/step - loss: 0.2475 - val_loss: 0.2679\n",
      "Epoch 10/20\n",
      "500/500 [==============================] - 198s 395ms/step - loss: 0.2450 - val_loss: 0.2797\n",
      "Epoch 11/20\n",
      "500/500 [==============================] - 199s 397ms/step - loss: 0.2420 - val_loss: 0.2740\n",
      "Epoch 12/20\n",
      "500/500 [==============================] - 197s 394ms/step - loss: 0.2363 - val_loss: 0.2727\n",
      "Epoch 13/20\n",
      "500/500 [==============================] - 197s 393ms/step - loss: 0.2339 - val_loss: 0.2839\n",
      "Epoch 14/20\n",
      "500/500 [==============================] - 197s 394ms/step - loss: 0.2307 - val_loss: 0.2780\n",
      "Epoch 15/20\n",
      "500/500 [==============================] - 196s 393ms/step - loss: 0.2269 - val_loss: 0.2752\n",
      "Epoch 16/20\n",
      "500/500 [==============================] - 198s 396ms/step - loss: 0.2248 - val_loss: 0.2777\n",
      "Epoch 17/20\n",
      "500/500 [==============================] - 197s 394ms/step - loss: 0.2213 - val_loss: 0.2850\n",
      "Epoch 18/20\n",
      "500/500 [==============================] - 197s 394ms/step - loss: 0.2188 - val_loss: 0.2895\n",
      "Epoch 19/20\n",
      "500/500 [==============================] - 198s 395ms/step - loss: 0.2160 - val_loss: 0.2957\n",
      "Epoch 20/20\n",
      "500/500 [==============================] - 197s 394ms/step - loss: 0.2151 - val_loss: 0.2921\n"
     ]
    }
   ],
   "source": [
    "# 训练并评估一个基于GRU的模型\n",
    "from keras.models import Sequential\n",
    "from keras import layers\n",
    "from keras.optimizers import RMSprop\n",
    "\n",
    "model = Sequential()\n",
    "model.add(layers.GRU(32, input_shape=(None, float_data.shape[-1])))\n",
    "model.add(layers.Dense(1))\n",
    "\n",
    "model.compile(optimizer=RMSprop(), loss='mae')\n",
    "\n",
    "history =model.fit_generator(train_gen,\n",
    "                             steps_per_epoch=500,\n",
    "                             epochs=20,\n",
    "                             validation_data=val_gen,\n",
    "                             validation_steps=val_steps)"
   ]
  },
  {
   "cell_type": "code",
   "execution_count": 67,
   "metadata": {},
   "outputs": [
    {
     "data": {
      "image/png": "[encoded data removed]",
      "text/plain": [
       "<Figure size 432x288 with 1 Axes>"
      ]
     },
     "metadata": {},
     "output_type": "display_data"
    }
   ],
   "source": [
    "# 绘制结果\n",
    "import matplotlib.pyplot as plt\n",
    "\n",
    "loss = history.history['loss']\n",
    "val_loss = history.history['val_loss']\n",
    "\n",
    "epochs = range(1, len(loss) + 1)\n",
    "\n",
    "plt.figure()\n",
    "\n",
    "plt.plot(epochs, loss, 'bo', label='Training loss')\n",
    "plt.plot(epochs, val_loss, 'b', label='Validation loss')\n",
    "plt.title('Training and validation loss')\n",
    "plt.legend()\n",
    "\n",
    "plt.show()"
   ]
  },
  {
   "cell_type": "markdown",
   "metadata": {},
   "source": [
    "使用循环dropout来降低过拟合"
   ]
  },
  {
   "cell_type": "code",
   "execution_count": 68,
   "metadata": {
    "scrolled": true
   },
   "outputs": [
    {
     "name": "stdout",
     "output_type": "stream",
     "text": [
      "Epoch 1/40\n",
      "500/500 [==============================] - 216s 432ms/step - loss: 0.3435 - val_loss: 0.2879\n",
      "Epoch 2/40\n",
      "500/500 [==============================] - 215s 431ms/step - loss: 0.3182 - val_loss: 0.2732\n",
      "Epoch 3/40\n",
      "500/500 [==============================] - 216s 433ms/step - loss: 0.3117 - val_loss: 0.2750\n",
      "Epoch 4/40\n",
      "500/500 [==============================] - 217s 434ms/step - loss: 0.3060 - val_loss: 0.2689\n",
      "Epoch 5/40\n",
      "500/500 [==============================] - 218s 435ms/step - loss: 0.3008 - val_loss: 0.2704\n",
      "Epoch 6/40\n",
      "500/500 [==============================] - 217s 434ms/step - loss: 0.3002 - val_loss: 0.2748\n",
      "Epoch 7/40\n",
      "500/500 [==============================] - 218s 437ms/step - loss: 0.2962 - val_loss: 0.2658\n",
      "Epoch 8/40\n",
      "500/500 [==============================] - 217s 433ms/step - loss: 0.2940 - val_loss: 0.2678\n",
      "Epoch 9/40\n",
      "500/500 [==============================] - 217s 434ms/step - loss: 0.2918 - val_loss: 0.2668\n",
      "Epoch 10/40\n",
      "500/500 [==============================] - 217s 434ms/step - loss: 0.2916 - val_loss: 0.2636\n",
      "Epoch 11/40\n",
      "500/500 [==============================] - 216s 432ms/step - loss: 0.2886 - val_loss: 0.2640\n",
      "Epoch 12/40\n",
      "500/500 [==============================] - 217s 433ms/step - loss: 0.2878 - val_loss: 0.2637\n",
      "Epoch 13/40\n",
      "500/500 [==============================] - 215s 430ms/step - loss: 0.2856 - val_loss: 0.2638\n",
      "Epoch 14/40\n",
      "500/500 [==============================] - 216s 433ms/step - loss: 0.2845 - val_loss: 0.2606\n",
      "Epoch 15/40\n",
      "500/500 [==============================] - 217s 433ms/step - loss: 0.2856 - val_loss: 0.2637\n",
      "Epoch 16/40\n",
      "500/500 [==============================] - 215s 429ms/step - loss: 0.2835 - val_loss: 0.2632\n",
      "Epoch 17/40\n",
      "500/500 [==============================] - 215s 431ms/step - loss: 0.2826 - val_loss: 0.2645\n",
      "Epoch 18/40\n",
      "500/500 [==============================] - 216s 433ms/step - loss: 0.2815 - val_loss: 0.2683\n",
      "Epoch 19/40\n",
      "500/500 [==============================] - 215s 429ms/step - loss: 0.2803 - val_loss: 0.2642\n",
      "Epoch 20/40\n",
      "500/500 [==============================] - 219s 437ms/step - loss: 0.2783 - val_loss: 0.2661\n",
      "Epoch 21/40\n",
      "500/500 [==============================] - 215s 430ms/step - loss: 0.2774 - val_loss: 0.2652\n",
      "Epoch 22/40\n",
      "500/500 [==============================] - 216s 432ms/step - loss: 0.2765 - val_loss: 0.2644\n",
      "Epoch 23/40\n",
      "500/500 [==============================] - 217s 435ms/step - loss: 0.2778 - val_loss: 0.2671\n",
      "Epoch 24/40\n",
      "500/500 [==============================] - 219s 438ms/step - loss: 0.2743 - val_loss: 0.2658\n",
      "Epoch 25/40\n",
      "500/500 [==============================] - 217s 433ms/step - loss: 0.2752 - val_loss: 0.2648\n",
      "Epoch 26/40\n",
      "500/500 [==============================] - 221s 442ms/step - loss: 0.2755 - val_loss: 0.2656\n",
      "Epoch 27/40\n",
      "500/500 [==============================] - 224s 449ms/step - loss: 0.2738 - val_loss: 0.2700\n",
      "Epoch 28/40\n",
      "500/500 [==============================] - 224s 448ms/step - loss: 0.2724 - val_loss: 0.2672\n",
      "Epoch 29/40\n",
      "500/500 [==============================] - 223s 447ms/step - loss: 0.2738 - val_loss: 0.2753\n",
      "Epoch 30/40\n",
      "500/500 [==============================] - 224s 447ms/step - loss: 0.2730 - val_loss: 0.2672\n",
      "Epoch 31/40\n",
      "500/500 [==============================] - 224s 447ms/step - loss: 0.2721 - val_loss: 0.2739\n",
      "Epoch 32/40\n",
      "500/500 [==============================] - 222s 445ms/step - loss: 0.2708 - val_loss: 0.2660\n",
      "Epoch 33/40\n",
      "500/500 [==============================] - 224s 449ms/step - loss: 0.2710 - val_loss: 0.2657\n",
      "Epoch 34/40\n",
      "500/500 [==============================] - 224s 448ms/step - loss: 0.2720 - val_loss: 0.2656\n",
      "Epoch 35/40\n",
      "500/500 [==============================] - 225s 450ms/step - loss: 0.2708 - val_loss: 0.2655\n",
      "Epoch 36/40\n",
      "500/500 [==============================] - 221s 443ms/step - loss: 0.2701 - val_loss: 0.2730\n",
      "Epoch 37/40\n",
      "500/500 [==============================] - 221s 442ms/step - loss: 0.2687 - val_loss: 0.2665\n",
      "Epoch 38/40\n",
      "500/500 [==============================] - 220s 439ms/step - loss: 0.2690 - val_loss: 0.2654\n",
      "Epoch 39/40\n",
      "500/500 [==============================] - 220s 439ms/step - loss: 0.2677 - val_loss: 0.2676\n",
      "Epoch 40/40\n",
      "500/500 [==============================] - 231s 463ms/step - loss: 0.2689 - val_loss: 0.2668\n"
     ]
    }
   ],
   "source": [
    "# 训练并评估一个使用dropout正则化的基于GRU的模型\n",
    "from keras.models import Sequential\n",
    "from keras import layers\n",
    "from keras.optimizers import RMSprop\n",
    "\n",
    "model = Sequential()\n",
    "model.add(layers.GRU(32,\n",
    "                     dropout=0.2,\n",
    "                     recurrent_dropout=0.2,\n",
    "                     input_shape=(None, float_data.shape[-1])))\n",
    "model.add(layers.Dense(1))\n",
    "\n",
    "model.compile(optimizer=RMSprop(), loss='mae')\n",
    "history = model.fit_generator(train_gen,\n",
    "                              steps_per_epoch=500,\n",
    "                              epochs=40,\n",
    "                              validation_data=val_gen,\n",
    "                              validation_steps=val_steps)"
   ]
  },
  {
   "cell_type": "code",
   "execution_count": 69,
   "metadata": {},
   "outputs": [
    {
     "data": {
      "image/png": "[encoded data removed]",
      "text/plain": [
       "<Figure size 432x288 with 1 Axes>"
      ]
     },
     "metadata": {},
     "output_type": "display_data"
    }
   ],
   "source": [
    "# 绘制结果\n",
    "import matplotlib.pyplot as plt\n",
    "\n",
    "loss = history.history['loss']\n",
    "val_loss = history.history['val_loss']\n",
    "\n",
    "epochs = range(1, len(loss) + 1)\n",
    "\n",
    "plt.figure()\n",
    "\n",
    "plt.plot(epochs, loss, 'bo', label='Training loss')\n",
    "plt.plot(epochs, val_loss, 'b', label='Validation loss')\n",
    "plt.title('Training and validation loss')\n",
    "plt.legend()\n",
    "\n",
    "plt.show()"
   ]
  },
  {
   "cell_type": "markdown",
   "metadata": {},
   "source": [
    "循环层堆叠"
   ]
  },
  {
   "cell_type": "code",
   "execution_count": 70,
   "metadata": {
    "scrolled": true
   },
   "outputs": [
    {
     "name": "stdout",
     "output_type": "stream",
     "text": [
      "Epoch 1/40\n",
      "500/500 [==============================] - 454s 908ms/step - loss: 0.3366 - val_loss: 0.2823\n",
      "Epoch 2/40\n",
      "500/500 [==============================] - 436s 873ms/step - loss: 0.3136 - val_loss: 0.2719\n",
      "Epoch 3/40\n",
      "500/500 [==============================] - 435s 871ms/step - loss: 0.3083 - val_loss: 0.2764\n",
      "Epoch 4/40\n",
      "500/500 [==============================] - 434s 869ms/step - loss: 0.3032 - val_loss: 0.2690\n",
      "Epoch 5/40\n",
      "500/500 [==============================] - 434s 868ms/step - loss: 0.2992 - val_loss: 0.2706\n",
      "Epoch 6/40\n",
      "500/500 [==============================] - 434s 868ms/step - loss: 0.2953 - val_loss: 0.2767\n",
      "Epoch 7/40\n",
      "500/500 [==============================] - 435s 869ms/step - loss: 0.2938 - val_loss: 0.2673\n",
      "Epoch 8/40\n",
      "500/500 [==============================] - 434s 868ms/step - loss: 0.2889 - val_loss: 0.2706\n",
      "Epoch 9/40\n",
      "500/500 [==============================] - 435s 869ms/step - loss: 0.2879 - val_loss: 0.2671\n",
      "Epoch 10/40\n",
      "500/500 [==============================] - 435s 871ms/step - loss: 0.2838 - val_loss: 0.2656\n",
      "Epoch 11/40\n",
      "500/500 [==============================] - 435s 869ms/step - loss: 0.2823 - val_loss: 0.2678\n",
      "Epoch 12/40\n",
      "500/500 [==============================] - 435s 870ms/step - loss: 0.2821 - val_loss: 0.2656\n",
      "Epoch 13/40\n",
      "500/500 [==============================] - 435s 870ms/step - loss: 0.2782 - val_loss: 0.2671\n",
      "Epoch 14/40\n",
      "500/500 [==============================] - 436s 872ms/step - loss: 0.2771 - val_loss: 0.2668\n",
      "Epoch 15/40\n",
      "500/500 [==============================] - 435s 870ms/step - loss: 0.2745 - val_loss: 0.2640\n",
      "Epoch 16/40\n",
      "500/500 [==============================] - 435s 870ms/step - loss: 0.2735 - val_loss: 0.2627\n",
      "Epoch 17/40\n",
      "500/500 [==============================] - 434s 869ms/step - loss: 0.2733 - val_loss: 0.2664\n",
      "Epoch 18/40\n",
      "500/500 [==============================] - 436s 871ms/step - loss: 0.2709 - val_loss: 0.2733\n",
      "Epoch 19/40\n",
      "500/500 [==============================] - 435s 869ms/step - loss: 0.2706 - val_loss: 0.2682\n",
      "Epoch 20/40\n",
      "500/500 [==============================] - 435s 870ms/step - loss: 0.2678 - val_loss: 0.2651\n",
      "Epoch 21/40\n",
      "500/500 [==============================] - 435s 870ms/step - loss: 0.2680 - val_loss: 0.2733\n",
      "Epoch 22/40\n",
      "500/500 [==============================] - 435s 870ms/step - loss: 0.2647 - val_loss: 0.2637\n",
      "Epoch 23/40\n",
      "500/500 [==============================] - 436s 871ms/step - loss: 0.2646 - val_loss: 0.2685\n",
      "Epoch 24/40\n",
      "500/500 [==============================] - 435s 870ms/step - loss: 51572440563.9751 - val_loss: 0.2640\n",
      "Epoch 25/40\n",
      "500/500 [==============================] - 435s 870ms/step - loss: 23858535922963061051228160.0000 - val_loss: 0.2654\n",
      "Epoch 26/40\n",
      "500/500 [==============================] - 436s 871ms/step - loss: 0.3057 - val_loss: 0.2643\n",
      "Epoch 27/40\n",
      "500/500 [==============================] - 435s 870ms/step - loss: 0.2623 - val_loss: 0.2669\n",
      "Epoch 28/40\n",
      "500/500 [==============================] - 435s 870ms/step - loss: 0.2601 - val_loss: 0.2666\n",
      "Epoch 29/40\n",
      "500/500 [==============================] - 436s 872ms/step - loss: 2.4088 - val_loss: 0.2641\n",
      "Epoch 30/40\n",
      "500/500 [==============================] - 435s 871ms/step - loss: 0.2595 - val_loss: 0.2674\n",
      "Epoch 31/40\n",
      "500/500 [==============================] - 435s 870ms/step - loss: 388.4226 - val_loss: 0.2663\n",
      "Epoch 32/40\n",
      "500/500 [==============================] - 436s 872ms/step - loss: 0.2595 - val_loss: 0.2672\n",
      "Epoch 33/40\n",
      "500/500 [==============================] - 435s 871ms/step - loss: 7050839.2980 - val_loss: 0.2660\n",
      "Epoch 34/40\n",
      "500/500 [==============================] - 435s 870ms/step - loss: 0.2581 - val_loss: 0.2725\n",
      "Epoch 35/40\n",
      "500/500 [==============================] - 435s 870ms/step - loss: 79052.3566 - val_loss: 0.2692\n",
      "Epoch 36/40\n",
      "500/500 [==============================] - 435s 871ms/step - loss: 241045761687.8087 - val_loss: 0.2678\n",
      "Epoch 37/40\n",
      "500/500 [==============================] - 436s 871ms/step - loss: 0.2584 - val_loss: 0.2671\n",
      "Epoch 38/40\n",
      "500/500 [==============================] - 435s 870ms/step - loss: 0.2566 - val_loss: 0.2684\n",
      "Epoch 39/40\n",
      "500/500 [==============================] - 436s 872ms/step - loss: 941475102.9766 - val_loss: 0.2652\n",
      "Epoch 40/40\n",
      "500/500 [==============================] - 435s 869ms/step - loss: 977575788255641.6250 - val_loss: 0.2674\n"
     ]
    }
   ],
   "source": [
    "# 训练并评估一个使用dropout正则化的堆叠GRU模型\n",
    "from keras.models import Sequential\n",
    "from keras import layers\n",
    "from keras.optimizers import RMSprop\n",
    "\n",
    "model = Sequential()\n",
    "model.add(layers.GRU(32,\n",
    "                     dropout=0.1,\n",
    "                     recurrent_dropout=0.5,\n",
    "                     return_sequences=True,\n",
    "                     input_shape=(None, float_data.shape[-1])))\n",
    "model.add(layers.GRU(64, activation='relu',\n",
    "                     dropout=0.1,\n",
    "                     recurrent_dropout=0.5))\n",
    "model.add(layers.Dense(1))\n",
    "\n",
    "model.compile(optimizer=RMSprop(), loss='mae')\n",
    "history = model.fit_generator(train_gen,\n",
    "                              steps_per_epoch=500,\n",
    "                              epochs=40,\n",
    "                              validation_data=val_gen,\n",
    "                              validation_steps=val_steps)"
   ]
  },
  {
   "cell_type": "code",
   "execution_count": 77,
   "metadata": {},
   "outputs": [
    {
     "data": {
      "image/png": "[encoded data removed]",
      "text/plain": [
       "<Figure size 432x288 with 1 Axes>"
      ]
     },
     "metadata": {},
     "output_type": "display_data"
    }
   ],
   "source": [
    "# 绘制结果\n",
    "import matplotlib.pyplot as plt\n",
    "\n",
    "loss = np.array(history.history['loss'])\n",
    "loss[loss > 0.4] = np.mean(loss[loss < 0.4]) # 处理异常值\n",
    "\n",
    "val_loss = history.history['val_loss']\n",
    "\n",
    "epochs = range(1, len(loss) + 1)\n",
    "\n",
    "plt.figure()\n",
    "\n",
    "plt.plot(epochs, loss, 'bo', label='Training loss')\n",
    "plt.plot(epochs, val_loss, 'b', label='Validation loss')\n",
    "plt.title('Training and validation loss')\n",
    "plt.legend()\n",
    "\n",
    "plt.show()"
   ]
  },
  {
   "cell_type": "markdown",
   "metadata": {},
   "source": [
    "使用双向RNN"
   ]
  },
  {
   "cell_type": "code",
   "execution_count": 79,
   "metadata": {},
   "outputs": [
    {
     "name": "stdout",
     "output_type": "stream",
     "text": [
      "Train on 20000 samples, validate on 5000 samples\n",
      "Epoch 1/10\n",
      "20000/20000 [==============================] - 135s 7ms/step - loss: 0.4878 - acc: 0.7701 - val_loss: 0.3734 - val_acc: 0.8630\n",
      "Epoch 2/10\n",
      "20000/20000 [==============================] - 144s 7ms/step - loss: 0.3101 - acc: 0.8823 - val_loss: 0.4114 - val_acc: 0.8228\n",
      "Epoch 3/10\n",
      "20000/20000 [==============================] - 140s 7ms/step - loss: 0.2742 - acc: 0.9046 - val_loss: 0.3301 - val_acc: 0.8656\n",
      "Epoch 4/10\n",
      "20000/20000 [==============================] - 143s 7ms/step - loss: 0.2226 - acc: 0.9192 - val_loss: 0.3445 - val_acc: 0.8746\n",
      "Epoch 5/10\n",
      "20000/20000 [==============================] - 141s 7ms/step - loss: 0.1928 - acc: 0.9329 - val_loss: 0.3491 - val_acc: 0.8792\n",
      "Epoch 6/10\n",
      "20000/20000 [==============================] - 146s 7ms/step - loss: 0.1774 - acc: 0.9398 - val_loss: 0.3768 - val_acc: 0.8736\n",
      "Epoch 7/10\n",
      "20000/20000 [==============================] - 144s 7ms/step - loss: 0.1556 - acc: 0.9479 - val_loss: 0.5858 - val_acc: 0.8418\n",
      "Epoch 8/10\n",
      "20000/20000 [==============================] - 135s 7ms/step - loss: 0.1458 - acc: 0.9521 - val_loss: 0.3762 - val_acc: 0.8750\n",
      "Epoch 9/10\n",
      "20000/20000 [==============================] - 135s 7ms/step - loss: 0.1311 - acc: 0.9554 - val_loss: 0.3782 - val_acc: 0.8724\n",
      "Epoch 10/10\n",
      "20000/20000 [==============================] - 134s 7ms/step - loss: 0.1235 - acc: 0.9591 - val_loss: 0.4120 - val_acc: 0.8718\n"
     ]
    }
   ],
   "source": [
    "# 使用逆序序列训练并评估一个LSTM\n",
    "from keras.datasets import imdb\n",
    "from keras.preprocessing import sequence\n",
    "from keras import layers\n",
    "from keras.models import Sequential\n",
    "\n",
    "max_features = 10000 # 作为特征的单词个数\n",
    "maxlen = 500 # 在这么多单词之后截断文本（这些单词都属于前max_features个最常见的单词）\n",
    "\n",
    "(x_train, y_train), (x_test, y_test) = imdb.load_data(num_words=max_features) # 加载数据\n",
    "\n",
    "# 将顺序反转\n",
    "x_train = [x[::-1] for x in x_train]\n",
    "x_test = [x[::-1] for x in x_test]\n",
    "\n",
    "# 填充序列\n",
    "x_train = sequence.pad_sequences(x_train, maxlen=maxlen)\n",
    "x_test = sequence.pad_sequences(x_test, maxlen=maxlen)\n",
    "\n",
    "model = Sequential()\n",
    "model.add(layers.Embedding(max_features, 128))\n",
    "model.add(layers.LSTM(32))\n",
    "model.add(layers.Dense(1, activation='sigmoid'))\n",
    "\n",
    "model.compile(optimizer='rmsprop',\n",
    "              loss='binary_crossentropy',\n",
    "              metrics=['acc'])\n",
    "\n",
    "history = model.fit(x_train, y_train,\n",
    "                    epochs=10,\n",
    "                    batch_size=128,\n",
    "                    validation_split=0.2)"
   ]
  },
  {
   "cell_type": "code",
   "execution_count": 80,
   "metadata": {},
   "outputs": [
    {
     "data": {
      "image/png": "[encoded data removed]",
      "text/plain": [
       "<Figure size 432x288 with 1 Axes>"
      ]
     },
     "metadata": {},
     "output_type": "display_data"
    }
   ],
   "source": [
    "# 绘制结果\n",
    "import matplotlib.pyplot as plt\n",
    "\n",
    "loss = np.array(history.history['loss'])\n",
    "loss[loss > 0.4] = np.mean(loss[loss < 0.4]) # 处理异常值\n",
    "\n",
    "val_loss = history.history['val_loss']\n",
    "\n",
    "epochs = range(1, len(loss) + 1)\n",
    "\n",
    "plt.figure()\n",
    "\n",
    "plt.plot(epochs, loss, 'bo', label='Training loss')\n",
    "plt.plot(epochs, val_loss, 'b', label='Validation loss')\n",
    "plt.title('Training and validation loss')\n",
    "plt.legend()\n",
    "\n",
    "plt.show()"
   ]
  },
  {
   "cell_type": "code",
   "execution_count": 81,
   "metadata": {},
   "outputs": [
    {
     "name": "stdout",
     "output_type": "stream",
     "text": [
      "Train on 20000 samples, validate on 5000 samples\n",
      "Epoch 1/10\n",
      "20000/20000 [==============================] - 258s 13ms/step - loss: 0.5592 - acc: 0.7171 - val_loss: 0.4278 - val_acc: 0.8348\n",
      "Epoch 2/10\n",
      "20000/20000 [==============================] - 260s 13ms/step - loss: 0.3336 - acc: 0.8695 - val_loss: 0.5860 - val_acc: 0.8056\n",
      "Epoch 3/10\n",
      "20000/20000 [==============================] - 265s 13ms/step - loss: 0.2701 - acc: 0.9013 - val_loss: 0.3383 - val_acc: 0.8756\n",
      "Epoch 4/10\n",
      "20000/20000 [==============================] - 269s 13ms/step - loss: 0.2302 - acc: 0.9143 - val_loss: 0.2964 - val_acc: 0.8862\n",
      "Epoch 5/10\n",
      "20000/20000 [==============================] - 269s 13ms/step - loss: 0.2045 - acc: 0.9288 - val_loss: 0.3385 - val_acc: 0.8862\n",
      "Epoch 6/10\n",
      "20000/20000 [==============================] - 272s 14ms/step - loss: 0.1777 - acc: 0.9356 - val_loss: 0.3775 - val_acc: 0.8846\n",
      "Epoch 7/10\n",
      "20000/20000 [==============================] - 270s 13ms/step - loss: 0.1670 - acc: 0.9407 - val_loss: 0.3736 - val_acc: 0.8832\n",
      "Epoch 8/10\n",
      "20000/20000 [==============================] - 269s 13ms/step - loss: 0.1543 - acc: 0.9467 - val_loss: 0.3698 - val_acc: 0.8638\n",
      "Epoch 9/10\n",
      "20000/20000 [==============================] - 276s 14ms/step - loss: 0.1434 - acc: 0.9505 - val_loss: 0.3497 - val_acc: 0.8690\n",
      "Epoch 10/10\n",
      "20000/20000 [==============================] - 269s 13ms/step - loss: 0.1310 - acc: 0.9557 - val_loss: 0.3753 - val_acc: 0.8794\n"
     ]
    }
   ],
   "source": [
    "# 训练并评估一个双向LSTM\n",
    "model = Sequential()\n",
    "model.add(layers.Embedding(max_features, 32))\n",
    "model.add(layers.Bidirectional(layers.LSTM(32)))\n",
    "model.add(layers.Dense(1, activation='sigmoid'))\n",
    "\n",
    "model.compile(optimizer='rmsprop', loss='binary_crossentropy', metrics=['acc'])\n",
    "\n",
    "history = model.fit(x_train, y_train,\n",
    "                    epochs=10,\n",
    "                    batch_size=128,\n",
    "                    validation_split=0.2)"
   ]
  },
  {
   "cell_type": "code",
   "execution_count": 83,
   "metadata": {},
   "outputs": [
    {
     "data": {
      "image/png": "[encoded data removed]",
      "text/plain": [
       "<Figure size 432x288 with 1 Axes>"
      ]
     },
     "metadata": {},
     "output_type": "display_data"
    },
    {
     "data": {
      "image/png": "[encoded data removed]",
      "text/plain": [
       "<Figure size 432x288 with 1 Axes>"
      ]
     },
     "metadata": {},
     "output_type": "display_data"
    }
   ],
   "source": [
    "# 绘制结果\n",
    "import matplotlib.pyplot as plt\n",
    "\n",
    "acc = history.history['acc']\n",
    "val_acc = history.history['val_acc']\n",
    "loss = history.history['loss']\n",
    "val_loss = history.history['val_loss']\n",
    "\n",
    "epochs = range(1, len(acc) + 1)\n",
    "plt.plot(epochs, acc, 'bo', label='Training acc')\n",
    "plt.plot(epochs, val_acc, 'b', label='Validation acc')\n",
    "plt.title('Training and validation accuracy')\n",
    "plt.legend()\n",
    "\n",
    "plt.figure()\n",
    "\n",
    "plt.plot(epochs, loss, 'bo', label='Training loss')\n",
    "plt.plot(epochs, val_loss, 'b', label='Validation loss')\n",
    "plt.title('Training and validation loss')\n",
    "plt.legend()\n",
    "\n",
    "plt.show()"
   ]
  },
  {
   "cell_type": "code",
   "execution_count": 10,
   "metadata": {
    "scrolled": true
   },
   "outputs": [
    {
     "name": "stderr",
     "output_type": "stream",
     "text": [
      "Using TensorFlow backend.\n"
     ]
    },
    {
     "name": "stdout",
     "output_type": "stream",
     "text": [
      "Epoch 1/40\n",
      "500/500 [==============================] - 416s 832ms/step - loss: 0.2919 - val_loss: 0.2659\n",
      "Epoch 2/40\n",
      "500/500 [==============================] - 394s 788ms/step - loss: 0.2748 - val_loss: 0.2655\n",
      "Epoch 3/40\n",
      "500/500 [==============================] - 401s 802ms/step - loss: 0.2680 - val_loss: 0.2650\n",
      "Epoch 4/40\n",
      "500/500 [==============================] - 399s 798ms/step - loss: 0.2610 - val_loss: 0.2656\n",
      "Epoch 5/40\n",
      "500/500 [==============================] - 364s 728ms/step - loss: 0.2569 - val_loss: 0.2714\n",
      "Epoch 6/40\n",
      "500/500 [==============================] - 367s 734ms/step - loss: 0.2496 - val_loss: 0.2740\n",
      "Epoch 7/40\n",
      "500/500 [==============================] - 368s 737ms/step - loss: 0.2439 - val_loss: 0.2754\n",
      "Epoch 8/40\n",
      "500/500 [==============================] - 365s 729ms/step - loss: 0.2395 - val_loss: 0.2821\n",
      "Epoch 9/40\n",
      "500/500 [==============================] - 364s 728ms/step - loss: 0.2335 - val_loss: 0.2809\n",
      "Epoch 10/40\n",
      "500/500 [==============================] - 388s 777ms/step - loss: 0.2279 - val_loss: 0.2890\n",
      "Epoch 11/40\n",
      "500/500 [==============================] - 422s 844ms/step - loss: 0.2221 - val_loss: 0.2881\n",
      "Epoch 12/40\n",
      "500/500 [==============================] - 420s 840ms/step - loss: 0.2171 - val_loss: 0.2944\n",
      "Epoch 13/40\n",
      "500/500 [==============================] - 406s 811ms/step - loss: 0.2115 - val_loss: 0.2991\n",
      "Epoch 14/40\n",
      "500/500 [==============================] - 414s 828ms/step - loss: 0.2060 - val_loss: 0.3004\n",
      "Epoch 15/40\n",
      "500/500 [==============================] - 379s 758ms/step - loss: 0.2013 - val_loss: 0.3043\n",
      "Epoch 16/40\n",
      "500/500 [==============================] - 413s 827ms/step - loss: 0.1959 - val_loss: 0.3131\n",
      "Epoch 17/40\n",
      "500/500 [==============================] - 392s 784ms/step - loss: 0.1912 - val_loss: 0.3101\n",
      "Epoch 18/40\n",
      "500/500 [==============================] - 411s 822ms/step - loss: 0.1873 - val_loss: 0.3086\n",
      "Epoch 19/40\n",
      "500/500 [==============================] - 407s 814ms/step - loss: 0.1848 - val_loss: 0.3113\n",
      "Epoch 20/40\n",
      "500/500 [==============================] - 411s 822ms/step - loss: 0.1787 - val_loss: 0.3123\n",
      "Epoch 21/40\n",
      "500/500 [==============================] - 415s 831ms/step - loss: 0.1756 - val_loss: 0.3148\n",
      "Epoch 22/40\n",
      "500/500 [==============================] - 390s 780ms/step - loss: 0.1720 - val_loss: 0.3191\n",
      "Epoch 23/40\n",
      "500/500 [==============================] - 389s 778ms/step - loss: 0.1692 - val_loss: 0.3196\n",
      "Epoch 24/40\n",
      "500/500 [==============================] - 390s 780ms/step - loss: 0.1668 - val_loss: 0.3158\n",
      "Epoch 25/40\n",
      "500/500 [==============================] - 389s 779ms/step - loss: 0.1644 - val_loss: 0.3249\n",
      "Epoch 26/40\n",
      "500/500 [==============================] - 405s 810ms/step - loss: 0.1604 - val_loss: 0.3232\n",
      "Epoch 27/40\n",
      "500/500 [==============================] - 378s 756ms/step - loss: 0.1595 - val_loss: 0.3283\n",
      "Epoch 28/40\n",
      "500/500 [==============================] - 405s 809ms/step - loss: 0.1559 - val_loss: 0.3254\n",
      "Epoch 29/40\n",
      "500/500 [==============================] - 395s 790ms/step - loss: 0.1544 - val_loss: 0.3310\n",
      "Epoch 30/40\n",
      "500/500 [==============================] - 396s 792ms/step - loss: 0.1534 - val_loss: 0.3258\n",
      "Epoch 31/40\n",
      "500/500 [==============================] - 377s 754ms/step - loss: 0.1510 - val_loss: 0.3285\n",
      "Epoch 32/40\n",
      "500/500 [==============================] - 377s 754ms/step - loss: 0.1488 - val_loss: 0.3388\n",
      "Epoch 33/40\n",
      "500/500 [==============================] - 405s 810ms/step - loss: 0.1464 - val_loss: 0.3313\n",
      "Epoch 34/40\n",
      "500/500 [==============================] - 365s 730ms/step - loss: 0.1462 - val_loss: 0.3318\n",
      "Epoch 35/40\n",
      "500/500 [==============================] - 367s 734ms/step - loss: 0.1448 - val_loss: 0.3390\n",
      "Epoch 36/40\n",
      "500/500 [==============================] - 375s 749ms/step - loss: 0.1413 - val_loss: 0.3350\n",
      "Epoch 37/40\n",
      "500/500 [==============================] - 369s 739ms/step - loss: 0.1415 - val_loss: 0.3310\n",
      "Epoch 38/40\n",
      "500/500 [==============================] - 367s 734ms/step - loss: 0.1404 - val_loss: 0.3333\n",
      "Epoch 39/40\n",
      "500/500 [==============================] - 380s 760ms/step - loss: 0.1383 - val_loss: 0.3399\n",
      "Epoch 40/40\n",
      "500/500 [==============================] - 374s 749ms/step - loss: 0.1381 - val_loss: 0.3347\n"
     ]
    }
   ],
   "source": [
    "# 训练一个双向GRU\n",
    "from keras.models import Sequential\n",
    "from keras import layers\n",
    "from keras.optimizers import RMSprop\n",
    "\n",
    "model = Sequential()\n",
    "model.add(layers.Bidirectional(\n",
    "                    layers.GRU(32), input_shape=(None, float_data.shape[-1])))\n",
    "model.add(layers.Dense(1))\n",
    "\n",
    "model.compile(optimizer=RMSprop(), loss='mae')\n",
    "\n",
    "history = model.fit_generator(train_gen,\n",
    "                              steps_per_epoch=500,\n",
    "                              epochs=40,\n",
    "                              validation_data=val_gen,\n",
    "                              validation_steps=val_steps)"
   ]
  },
  {
   "cell_type": "code",
   "execution_count": 12,
   "metadata": {},
   "outputs": [
    {
     "data": {
      "image/png": "[encoded data removed]",
      "text/plain": [
       "<Figure size 432x288 with 1 Axes>"
      ]
     },
     "metadata": {},
     "output_type": "display_data"
    }
   ],
   "source": [
    "# 绘制结果\n",
    "import matplotlib.pyplot as plt\n",
    "\n",
    "loss = history.history['loss']\n",
    "val_loss = history.history['val_loss']\n",
    "\n",
    "epochs = range(1, len(loss) + 1)\n",
    "plt.figure()\n",
    "\n",
    "plt.plot(epochs, loss, 'bo', label='Training loss')\n",
    "plt.plot(epochs, val_loss, 'b', label='Validation loss')\n",
    "plt.title('Training and validation loss')\n",
    "plt.legend()\n",
    "\n",
    "plt.show()"
   ]
  },
  {
   "cell_type": "markdown",
   "metadata": {},
   "source": [
    "**6.4 用卷积神经网络处理序列**"
   ]
  },
  {
   "cell_type": "markdown",
   "metadata": {},
   "source": [
    "实现一维卷积神经网络"
   ]
  },
  {
   "cell_type": "code",
   "execution_count": 13,
   "metadata": {},
   "outputs": [
    {
     "name": "stdout",
     "output_type": "stream",
     "text": [
      "Loading data...\n",
      "25000 train sequences\n",
      "25000 test sequences\n",
      "Pad sequences ( sample x time)\n",
      "x_train shape: (25000, 500)\n",
      "x_test shape: (25000, 500)\n"
     ]
    }
   ],
   "source": [
    "# 准备IMDB数据\n",
    "from keras.datasets import imdb\n",
    "from keras.preprocessing import sequence\n",
    "\n",
    "max_features = 10000\n",
    "max_len = 500\n",
    "\n",
    "print('Loading data...')\n",
    "(x_train, y_train), (x_test, y_test) = imdb.load_data(num_words=max_features)\n",
    "print(len(x_train), 'train sequences')\n",
    "print(len(x_test), 'test sequences')\n",
    "\n",
    "print('Pad sequences ( sample x time)')\n",
    "x_train = sequence.pad_sequences(x_train, maxlen=max_len)\n",
    "x_test = sequence.pad_sequences(x_test, maxlen=max_len)\n",
    "print('x_train shape:', x_train.shape)\n",
    "print('x_test shape:', x_test.shape)"
   ]
  },
  {
   "cell_type": "code",
   "execution_count": 14,
   "metadata": {
    "scrolled": true
   },
   "outputs": [
    {
     "name": "stdout",
     "output_type": "stream",
     "text": [
      "_________________________________________________________________\n",
      "Layer (type)                 Output Shape              Param #   \n",
      "=================================================================\n",
      "embedding_1 (Embedding)      (None, 500, 128)          1280000   \n",
      "_________________________________________________________________\n",
      "conv1d_1 (Conv1D)            (None, 494, 32)           28704     \n",
      "_________________________________________________________________\n",
      "max_pooling1d_1 (MaxPooling1 (None, 98, 32)            0         \n",
      "_________________________________________________________________\n",
      "conv1d_2 (Conv1D)            (None, 92, 32)            7200      \n",
      "_________________________________________________________________\n",
      "global_max_pooling1d_1 (Glob (None, 32)                0         \n",
      "_________________________________________________________________\n",
      "dense_2 (Dense)              (None, 1)                 33        \n",
      "=================================================================\n",
      "Total params: 1,315,937\n",
      "Trainable params: 1,315,937\n",
      "Non-trainable params: 0\n",
      "_________________________________________________________________\n",
      "Train on 20000 samples, validate on 5000 samples\n",
      "Epoch 1/10\n",
      "20000/20000 [==============================] - 7s 328us/step - loss: 0.8337 - acc: 0.5092 - val_loss: 0.6874 - val_acc: 0.5650\n",
      "Epoch 2/10\n",
      "20000/20000 [==============================] - 4s 208us/step - loss: 0.6700 - acc: 0.6391 - val_loss: 0.6641 - val_acc: 0.6572\n",
      "Epoch 3/10\n",
      "20000/20000 [==============================] - 4s 208us/step - loss: 0.6235 - acc: 0.7531 - val_loss: 0.6079 - val_acc: 0.7436\n",
      "Epoch 4/10\n",
      "20000/20000 [==============================] - 4s 207us/step - loss: 0.5259 - acc: 0.8078 - val_loss: 0.4830 - val_acc: 0.8060\n",
      "Epoch 5/10\n",
      "20000/20000 [==============================] - 4s 207us/step - loss: 0.4114 - acc: 0.8486 - val_loss: 0.4294 - val_acc: 0.8300\n",
      "Epoch 6/10\n",
      "20000/20000 [==============================] - 4s 208us/step - loss: 0.3496 - acc: 0.8674 - val_loss: 0.4129 - val_acc: 0.8348\n",
      "Epoch 7/10\n",
      "20000/20000 [==============================] - 4s 219us/step - loss: 0.3065 - acc: 0.8679 - val_loss: 0.4332 - val_acc: 0.8224\n",
      "Epoch 8/10\n",
      "20000/20000 [==============================] - 4s 210us/step - loss: 0.2782 - acc: 0.8601 - val_loss: 0.4219 - val_acc: 0.8106\n",
      "Epoch 9/10\n",
      "20000/20000 [==============================] - 4s 207us/step - loss: 0.2514 - acc: 0.8468 - val_loss: 0.4548 - val_acc: 0.7940\n",
      "Epoch 10/10\n",
      "20000/20000 [==============================] - 4s 207us/step - loss: 0.2288 - acc: 0.8276 - val_loss: 0.4796 - val_acc: 0.7666\n"
     ]
    }
   ],
   "source": [
    "# 在IMDB数据上训练并评估一个简单的一维卷积神经网络\n",
    "from keras.models import Sequential\n",
    "from keras import layers\n",
    "from keras.optimizers import RMSprop\n",
    "\n",
    "model = Sequential()\n",
    "model.add(layers.Embedding(max_features, 128, input_length=max_len))\n",
    "model.add(layers.Conv1D(32, 7, activation='relu'))\n",
    "model.add(layers.MaxPooling1D(5))\n",
    "model.add(layers.Conv1D(32, 7, activation='relu'))\n",
    "model.add(layers.GlobalMaxPooling1D())\n",
    "model.add(layers.Dense(1))\n",
    "\n",
    "model.summary()\n",
    "\n",
    "model.compile(optimizer=RMSprop(lr=1e-4),\n",
    "              loss='binary_crossentropy',\n",
    "              metrics=['acc'])\n",
    "\n",
    "history = model.fit(x_train, y_train,\n",
    "                    epochs=10,\n",
    "                    batch_size=128,\n",
    "                    validation_split=0.2)"
   ]
  },
  {
   "cell_type": "code",
   "execution_count": 15,
   "metadata": {},
   "outputs": [
    {
     "data": {
      "image/png": "[encoded data removed]",
      "text/plain": [
       "<Figure size 432x288 with 1 Axes>"
      ]
     },
     "metadata": {},
     "output_type": "display_data"
    },
    {
     "data": {
      "image/png": "[encoded data removed]",
      "text/plain": [
       "<Figure size 432x288 with 1 Axes>"
      ]
     },
     "metadata": {},
     "output_type": "display_data"
    }
   ],
   "source": [
    "# 绘制结果\n",
    "import matplotlib.pyplot as plt\n",
    "\n",
    "acc = history.history['acc']\n",
    "val_acc = history.history['val_acc']\n",
    "loss = history.history['loss']\n",
    "val_loss = history.history['val_loss']\n",
    "\n",
    "epochs = range(1, len(acc) + 1)\n",
    "plt.plot(epochs, acc, 'bo', label='Training acc')\n",
    "plt.plot(epochs, val_acc, 'b', label='Validation acc')\n",
    "plt.title('Training and validation accuracy')\n",
    "plt.legend()\n",
    "\n",
    "plt.figure()\n",
    "\n",
    "plt.plot(epochs, loss, 'bo', label='Training loss')\n",
    "plt.plot(epochs, val_loss, 'b', label='Validation loss')\n",
    "plt.title('Training and validation loss')\n",
    "plt.legend()\n",
    "\n",
    "plt.show()"
   ]
  },
  {
   "cell_type": "markdown",
   "metadata": {},
   "source": [
    "结合CNN和RNN来处理长序列"
   ]
  },
  {
   "cell_type": "code",
   "execution_count": 24,
   "metadata": {
    "scrolled": true
   },
   "outputs": [
    {
     "name": "stdout",
     "output_type": "stream",
     "text": [
      "Epoch 1/20\n",
      "500/500 [==============================] - 15s 31ms/step - loss: 0.4210 - val_loss: 0.4379\n",
      "Epoch 2/20\n",
      "500/500 [==============================] - 15s 31ms/step - loss: 0.3631 - val_loss: 0.4248\n",
      "Epoch 3/20\n",
      "500/500 [==============================] - 15s 31ms/step - loss: 0.3419 - val_loss: 0.4606\n",
      "Epoch 4/20\n",
      "500/500 [==============================] - 15s 30ms/step - loss: 0.3273 - val_loss: 0.4666\n",
      "Epoch 5/20\n",
      "500/500 [==============================] - 15s 30ms/step - loss: 0.3178 - val_loss: 0.4519\n",
      "Epoch 6/20\n",
      "500/500 [==============================] - 15s 30ms/step - loss: 0.3084 - val_loss: 0.4496\n",
      "Epoch 7/20\n",
      "500/500 [==============================] - 15s 30ms/step - loss: 0.2988 - val_loss: 0.4555\n",
      "Epoch 8/20\n",
      "500/500 [==============================] - 15s 30ms/step - loss: 0.2911 - val_loss: 0.4590\n",
      "Epoch 9/20\n",
      "500/500 [==============================] - 15s 30ms/step - loss: 0.2845 - val_loss: 0.4521\n",
      "Epoch 10/20\n",
      "500/500 [==============================] - 15s 30ms/step - loss: 0.2800 - val_loss: 0.4438\n",
      "Epoch 11/20\n",
      "500/500 [==============================] - 15s 31ms/step - loss: 0.2750 - val_loss: 0.4376\n",
      "Epoch 12/20\n",
      "500/500 [==============================] - 15s 31ms/step - loss: 0.2706 - val_loss: 0.4397\n",
      "Epoch 13/20\n",
      "500/500 [==============================] - 15s 31ms/step - loss: 0.2660 - val_loss: 0.4458\n",
      "Epoch 14/20\n",
      "500/500 [==============================] - 16s 31ms/step - loss: 0.2624 - val_loss: 0.4495\n",
      "Epoch 15/20\n",
      "500/500 [==============================] - 16s 31ms/step - loss: 0.2610 - val_loss: 0.4565\n",
      "Epoch 16/20\n",
      "500/500 [==============================] - 16s 31ms/step - loss: 0.2553 - val_loss: 0.4452\n",
      "Epoch 17/20\n",
      "500/500 [==============================] - 16s 31ms/step - loss: 0.2546 - val_loss: 0.4506\n",
      "Epoch 18/20\n",
      "500/500 [==============================] - 15s 31ms/step - loss: 0.2529 - val_loss: 0.4885\n",
      "Epoch 19/20\n",
      "500/500 [==============================] - 15s 31ms/step - loss: 0.2472 - val_loss: 0.4611\n",
      "Epoch 20/20\n",
      "500/500 [==============================] - 15s 31ms/step - loss: 0.2483 - val_loss: 0.4465\n"
     ]
    }
   ],
   "source": [
    "# 在耶拿数据上训练并评估一个简单的一维卷积神经网络\n",
    "from keras.models import Sequential\n",
    "from keras import layers\n",
    "from keras.optimizers import RMSprop\n",
    "\n",
    "model = Sequential()\n",
    "model.add(layers.Conv1D(32, 5, activation='relu',\n",
    "                        input_shape=(None, float_data.shape[-1])))\n",
    "model.add(layers.MaxPooling1D(3))\n",
    "model.add(layers.Conv1D(32, 5, activation='relu'))\n",
    "model.add(layers.MaxPooling1D(3))\n",
    "model.add(layers.Conv1D(32, 5, activation='relu'))\n",
    "model.add(layers.GlobalMaxPooling1D())\n",
    "model.add(layers.Dense(1))\n",
    "\n",
    "model.compile(optimizer=RMSprop(), loss='mae')\n",
    "\n",
    "history = model.fit_generator(train_gen,\n",
    "                              steps_per_epoch=500,\n",
    "                              epochs=20,\n",
    "                              validation_data=val_gen,\n",
    "                              validation_steps=val_steps)"
   ]
  },
  {
   "cell_type": "code",
   "execution_count": 25,
   "metadata": {},
   "outputs": [
    {
     "data": {
      "image/png": "[encoded data removed]",
      "text/plain": [
       "<Figure size 432x288 with 1 Axes>"
      ]
     },
     "metadata": {},
     "output_type": "display_data"
    }
   ],
   "source": [
    "# 绘制结果\n",
    "import matplotlib.pyplot as plt\n",
    "\n",
    "loss = history.history['loss']\n",
    "val_loss = history.history['val_loss']\n",
    "epochs = range(1, len(loss) + 1)\n",
    "plt.figure()\n",
    "\n",
    "plt.plot(epochs, loss, 'bo', label='Training loss')\n",
    "plt.plot(epochs, val_loss, 'b', label='Validation loss')\n",
    "plt.title('Training and validation loss')\n",
    "plt.legend()\n",
    "\n",
    "plt.show()"
   ]
  },
  {
   "cell_type": "code",
   "execution_count": 18,
   "metadata": {},
   "outputs": [],
   "source": [
    "# 为耶拿数据集准备更高分辨率的数据生成器\n",
    "step =3 # 之前设置为6（每小时一个数据点），现在设置为3（每30分钟一个数据点）\n",
    "\n",
    "# 下面两项保持不变\n",
    "lookback = 720\n",
    "delay = 144\n",
    "\n",
    "train_gen = generator(float_data,\n",
    "                      lookback=lookback,\n",
    "                      delay=delay,\n",
    "                      min_index=0,\n",
    "                      max_index=200000,\n",
    "                      shuffle=True,\n",
    "                      step=step)\n",
    "val_gen = generator(float_data,\n",
    "                    lookback=lookback,\n",
    "                    delay=delay,\n",
    "                    min_index=200001,\n",
    "                    max_index=300000,\n",
    "                    step=step)\n",
    "test_gen = generator(float_data,\n",
    "                     lookback=lookback,\n",
    "                     delay=delay,\n",
    "                     min_index=300001,\n",
    "                     max_index=None,\n",
    "                     step=step)\n",
    "val_steps = (300000 - 200001 - lookback) // 128\n",
    "test_steps = (len(float_data) - 300001 - lookback) // 128"
   ]
  },
  {
   "cell_type": "code",
   "execution_count": 20,
   "metadata": {
    "scrolled": true
   },
   "outputs": [
    {
     "name": "stdout",
     "output_type": "stream",
     "text": [
      "_________________________________________________________________\n",
      "Layer (type)                 Output Shape              Param #   \n",
      "=================================================================\n",
      "conv1d_8 (Conv1D)            (None, None, 32)          2272      \n",
      "_________________________________________________________________\n",
      "max_pooling1d_5 (MaxPooling1 (None, None, 32)          0         \n",
      "_________________________________________________________________\n",
      "conv1d_9 (Conv1D)            (None, None, 32)          5152      \n",
      "_________________________________________________________________\n",
      "gru_3 (GRU)                  (None, 32)                6240      \n",
      "_________________________________________________________________\n",
      "dense_5 (Dense)              (None, 1)                 33        \n",
      "=================================================================\n",
      "Total params: 13,697\n",
      "Trainable params: 13,697\n",
      "Non-trainable params: 0\n",
      "_________________________________________________________________\n",
      "Epoch 1/20\n",
      "500/500 [==============================] - 81s 162ms/step - loss: 0.3354 - val_loss: 0.3141\n",
      "Epoch 2/20\n",
      "500/500 [==============================] - 86s 171ms/step - loss: 0.3029 - val_loss: 0.2817\n",
      "Epoch 3/20\n",
      "500/500 [==============================] - 86s 171ms/step - loss: 0.2913 - val_loss: 0.2722\n",
      "Epoch 4/20\n",
      "500/500 [==============================] - 84s 168ms/step - loss: 0.2840 - val_loss: 0.2796\n",
      "Epoch 5/20\n",
      "500/500 [==============================] - 88s 177ms/step - loss: 0.2757 - val_loss: 0.2787\n",
      "Epoch 6/20\n",
      "500/500 [==============================] - 84s 168ms/step - loss: 0.2723 - val_loss: 0.2714\n",
      "Epoch 7/20\n",
      "500/500 [==============================] - 84s 168ms/step - loss: 0.2669 - val_loss: 0.2806\n",
      "Epoch 8/20\n",
      "500/500 [==============================] - 84s 167ms/step - loss: 0.2610 - val_loss: 0.2835\n",
      "Epoch 9/20\n",
      "500/500 [==============================] - 85s 169ms/step - loss: 0.2559 - val_loss: 0.2852\n",
      "Epoch 10/20\n",
      "500/500 [==============================] - 84s 167ms/step - loss: 0.2531 - val_loss: 0.2782\n",
      "Epoch 11/20\n",
      "500/500 [==============================] - 85s 170ms/step - loss: 0.2477 - val_loss: 0.2795\n",
      "Epoch 12/20\n",
      "500/500 [==============================] - 86s 173ms/step - loss: 0.2437 - val_loss: 0.2766\n",
      "Epoch 13/20\n",
      "500/500 [==============================] - 86s 173ms/step - loss: 0.2405 - val_loss: 0.2874\n",
      "Epoch 14/20\n",
      "500/500 [==============================] - 88s 175ms/step - loss: 0.2388 - val_loss: 0.2825\n",
      "Epoch 15/20\n",
      "500/500 [==============================] - 86s 173ms/step - loss: 0.2361 - val_loss: 0.2867\n",
      "Epoch 16/20\n",
      "500/500 [==============================] - 86s 173ms/step - loss: 0.2329 - val_loss: 0.2919\n",
      "Epoch 17/20\n",
      "500/500 [==============================] - 86s 172ms/step - loss: 0.2289 - val_loss: 0.2910\n",
      "Epoch 18/20\n",
      "500/500 [==============================] - 86s 173ms/step - loss: 0.2288 - val_loss: 0.2884\n",
      "Epoch 19/20\n",
      "500/500 [==============================] - 86s 173ms/step - loss: 0.2251 - val_loss: 0.2944\n",
      "Epoch 20/20\n",
      "500/500 [==============================] - 86s 172ms/step - loss: 0.2220 - val_loss: 0.2909\n"
     ]
    }
   ],
   "source": [
    "# 结合一维卷积基和GRU层的模型\n",
    "from keras.models import Sequential\n",
    "from keras import layers\n",
    "from keras.optimizers import RMSprop\n",
    "\n",
    "model = Sequential()\n",
    "model.add(layers.Conv1D(32, 5, activation='relu',\n",
    "                        input_shape=(None, float_data.shape[-1])))\n",
    "model.add(layers.MaxPooling1D(3))\n",
    "model.add(layers.Conv1D(32, 5, activation='relu'))\n",
    "model.add(layers.GRU(32, dropout=0.1, recurrent_dropout=0.5))\n",
    "model.add(layers.Dense(1))\n",
    "\n",
    "model.summary()\n",
    "\n",
    "model.compile(optimizer=RMSprop(), loss='mae')\n",
    "\n",
    "history = model.fit_generator(train_gen, \n",
    "                              steps_per_epoch=500,\n",
    "                              epochs=20,\n",
    "                              validation_data=val_gen,\n",
    "                              validation_steps=val_steps)"
   ]
  },
  {
   "cell_type": "code",
   "execution_count": 22,
   "metadata": {},
   "outputs": [
    {
     "data": {
      "image/png": "[encoded data removed]",
      "text/plain": [
       "<Figure size 432x288 with 1 Axes>"
      ]
     },
     "metadata": {},
     "output_type": "display_data"
    }
   ],
   "source": [
    "# 绘制结果\n",
    "import matplotlib.pyplot as plt\n",
    "\n",
    "loss = history.history['loss']\n",
    "val_loss = history.history['val_loss']\n",
    "epochs = range(1, len(loss) + 1)\n",
    "plt.figure()\n",
    "\n",
    "plt.plot(epochs, loss, 'bo', label='Training loss')\n",
    "plt.plot(epochs, val_loss, 'b', label='Validation loss')\n",
    "plt.title('Training and validation loss')\n",
    "plt.legend()\n",
    "\n",
    "plt.show()"
   ]
  },
  {
   "cell_type": "code",
   "execution_count": null,
   "metadata": {},
   "outputs": [],
   "source": []
  }
 ],
 "metadata": {
  "kernelspec": {
   "display_name": "Python 3",
   "language": "python",
   "name": "python3"
  },
  "language_info": {
   "codemirror_mode": {
    "name": "ipython",
    "version": 3
   },
   "file_extension": ".py",
   "mimetype": "text/x-python",
   "name": "python",
   "nbconvert_exporter": "python",
   "pygments_lexer": "ipython3",
   "version": "3.6.4"
  }
 },
 "nbformat": 4,
 "nbformat_minor": 2
}
