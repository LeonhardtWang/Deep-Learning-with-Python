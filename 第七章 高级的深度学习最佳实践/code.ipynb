{
 "cells": [
  {
   "cell_type": "markdown",
   "metadata": {},
   "source": [
    "**7.1 不用Sequential模型的解决方案：Keras函数式API**"
   ]
  },
  {
   "cell_type": "markdown",
   "metadata": {},
   "source": [
    "函数式API简介"
   ]
  },
  {
   "cell_type": "code",
   "execution_count": 1,
   "metadata": {},
   "outputs": [
    {
     "name": "stderr",
     "output_type": "stream",
     "text": [
      "Using TensorFlow backend.\n"
     ]
    }
   ],
   "source": [
    "from keras import Input, layers\n",
    "\n",
    "input_tensor = Input(shape=(32,)) # 一个张量\n",
    "\n",
    "dense = layers.Dense(32, activation='relu') # 一个层是一个函数\n",
    "\n",
    "ouput_tensor = dense(input_tensor) # 可以在一个张量上调用一个层，它会返回一个张量"
   ]
  },
  {
   "cell_type": "code",
   "execution_count": 2,
   "metadata": {},
   "outputs": [
    {
     "name": "stdout",
     "output_type": "stream",
     "text": [
      "_________________________________________________________________\n",
      "Layer (type)                 Output Shape              Param #   \n",
      "=================================================================\n",
      "input_2 (InputLayer)         (None, 64)                0         \n",
      "_________________________________________________________________\n",
      "dense_5 (Dense)              (None, 32)                2080      \n",
      "_________________________________________________________________\n",
      "dense_6 (Dense)              (None, 32)                1056      \n",
      "_________________________________________________________________\n",
      "dense_7 (Dense)              (None, 10)                330       \n",
      "=================================================================\n",
      "Total params: 3,466\n",
      "Trainable params: 3,466\n",
      "Non-trainable params: 0\n",
      "_________________________________________________________________\n"
     ]
    }
   ],
   "source": [
    "# 一个简单的Sequential模型以及对应的函数式API实现\n",
    "from keras.models import Sequential, Model\n",
    "from keras import layers\n",
    "from keras import Input\n",
    "\n",
    "# 前面学过的Sequential模型\n",
    "seq_model = Sequential()\n",
    "seq_model.add(layers.Dense(32, activation='relu', input_shape=(64,)))\n",
    "seq_model.add(layers.Dense(32, activation='relu'))\n",
    "seq_model.add(layers.Dense(10, activation='softmax'))\n",
    "\n",
    "# 对应的函数式API实现\n",
    "input_tensor = Input(shape=(64,))\n",
    "x = layers.Dense(32, activation='relu')(input_tensor)\n",
    "x = layers.Dense(32, activation='relu')(x)\n",
    "output_tensor = layers.Dense(10, activation='softmax')(x)\n",
    "\n",
    "model = Model(input_tensor, output_tensor) # Model类将输入张量和输出张量转换为一个模型\n",
    "\n",
    "model.summary()"
   ]
  },
  {
   "cell_type": "code",
   "execution_count": 4,
   "metadata": {},
   "outputs": [
    {
     "name": "stdout",
     "output_type": "stream",
     "text": [
      "Epoch 1/10\n",
      "1000/1000 [==============================] - 4s 4ms/step - loss: 11.5672\n",
      "Epoch 2/10\n",
      "1000/1000 [==============================] - 0s 41us/step - loss: 11.5175\n",
      "Epoch 3/10\n",
      "1000/1000 [==============================] - 0s 41us/step - loss: 11.5093\n",
      "Epoch 4/10\n",
      "1000/1000 [==============================] - 0s 41us/step - loss: 11.5056\n",
      "Epoch 5/10\n",
      "1000/1000 [==============================] - 0s 46us/step - loss: 11.5034\n",
      "Epoch 6/10\n",
      "1000/1000 [==============================] - 0s 41us/step - loss: 11.5020\n",
      "Epoch 7/10\n",
      "1000/1000 [==============================] - 0s 47us/step - loss: 11.5013\n",
      "Epoch 8/10\n",
      "1000/1000 [==============================] - 0s 42us/step - loss: 11.5002\n",
      "Epoch 9/10\n",
      "1000/1000 [==============================] - 0s 41us/step - loss: 11.4995\n",
      "Epoch 10/10\n",
      "1000/1000 [==============================] - 0s 39us/step - loss: 11.4984\n",
      "1000/1000 [==============================] - 0s 85us/step\n"
     ]
    }
   ],
   "source": [
    "# 对Model实例进行编译、训练或评估，其API与Sequential模型相同\n",
    "model.compile(optimizer='rmsprop', loss='categorical_crossentropy') # 编译模型\n",
    "\n",
    "import numpy as np\n",
    "# 用于生成训练的虚构Numpy数据\n",
    "x_train = np.random.random((1000, 64))\n",
    "y_train = np.random.random((1000, 10))\n",
    "\n",
    "model.fit(x_train, y_train, epochs=10, batch_size=128) # 训练10轮模型\n",
    "\n",
    "score = model.evaluate(x_train, y_train)"
   ]
  },
  {
   "cell_type": "code",
   "execution_count": 5,
   "metadata": {},
   "outputs": [
    {
     "data": {
      "text/plain": [
       "11.496811447143555"
      ]
     },
     "execution_count": 5,
     "metadata": {},
     "output_type": "execute_result"
    }
   ],
   "source": [
    "score"
   ]
  },
  {
   "cell_type": "markdown",
   "metadata": {},
   "source": [
    "多输入模型"
   ]
  },
  {
   "cell_type": "code",
   "execution_count": 25,
   "metadata": {},
   "outputs": [],
   "source": [
    "# 用函数式API实现双输入问答模型\n",
    "from keras.models import Model\n",
    "from keras import layers\n",
    "from keras import Input\n",
    "\n",
    "text_vocabulary_size = 10000\n",
    "question_vocabulary_size = 10000\n",
    "answer_vocabulary_size = 500\n",
    "\n",
    "text_input = Input(shape=(None,), dtype='int32', name='text') # 文本输入是一个长度可变的整数序列。\n",
    "                                                              # 注意，你可以选择对输入进行命名\n",
    "embedding_text = layers.Embedding(text_vocabulary_size, 64)(text_input) # 将输入嵌入长度为64的向量\n",
    "\n",
    "encoded_text = layers.LSTM(32)(embedding_text) # 利用该LSTM将向量编码为单个向量\n",
    "\n",
    "question_input = Input(shape=(None,), dtype='int32', name='question') # 对问题进行相同的处理（使用不同的层实例）\n",
    "\n",
    "embedded_question = layers.Embedding(question_vocabulary_size, 32)(question_input)\n",
    "encoded_question = layers.LSTM(16)(embedded_question)\n",
    "\n",
    "concatenated = layers.concatenate([encoded_text, encoded_question], axis=-1) # 将编码后的问题和样本连接起来\n",
    "\n",
    "answer = layers.Dense(answer_vocabulary_size, activation='softmax')(concatenated) # 在上面添加一个softmax分类器\n",
    "\n",
    "model = Model([text_input, question_input], answer) # 在模型实例化时，指定两个输入和输出\n",
    "model.compile(optimizer='rmsprop', \n",
    "              loss='categorical_crossentropy',\n",
    "              metrics=['acc'])"
   ]
  },
  {
   "cell_type": "code",
   "execution_count": 26,
   "metadata": {
    "scrolled": true
   },
   "outputs": [
    {
     "name": "stdout",
     "output_type": "stream",
     "text": [
      "__________________________________________________________________________________________________\n",
      "Layer (type)                    Output Shape         Param #     Connected to                     \n",
      "==================================================================================================\n",
      "text (InputLayer)               (None, None)         0                                            \n",
      "__________________________________________________________________________________________________\n",
      "question (InputLayer)           (None, None)         0                                            \n",
      "__________________________________________________________________________________________________\n",
      "embedding_3 (Embedding)         (None, None, 64)     640000      text[0][0]                       \n",
      "__________________________________________________________________________________________________\n",
      "embedding_4 (Embedding)         (None, None, 32)     320000      question[0][0]                   \n",
      "__________________________________________________________________________________________________\n",
      "lstm_3 (LSTM)                   (None, 32)           12416       embedding_3[0][0]                \n",
      "__________________________________________________________________________________________________\n",
      "lstm_4 (LSTM)                   (None, 16)           3136        embedding_4[0][0]                \n",
      "__________________________________________________________________________________________________\n",
      "concatenate_2 (Concatenate)     (None, 48)           0           lstm_3[0][0]                     \n",
      "                                                                 lstm_4[0][0]                     \n",
      "__________________________________________________________________________________________________\n",
      "dense_9 (Dense)                 (None, 500)          24500       concatenate_2[0][0]              \n",
      "==================================================================================================\n",
      "Total params: 1,000,052\n",
      "Trainable params: 1,000,052\n",
      "Non-trainable params: 0\n",
      "__________________________________________________________________________________________________\n"
     ]
    }
   ],
   "source": [
    "model.summary()"
   ]
  },
  {
   "cell_type": "code",
   "execution_count": 27,
   "metadata": {
    "scrolled": true
   },
   "outputs": [
    {
     "name": "stdout",
     "output_type": "stream",
     "text": [
      "Epoch 1/10\n",
      "1000/1000 [==============================] - 5s 5ms/step - loss: 6.2147 - acc: 1.0000e-03\n",
      "Epoch 2/10\n",
      "1000/1000 [==============================] - 3s 3ms/step - loss: 6.2002 - acc: 0.0570\n",
      "Epoch 3/10\n",
      "1000/1000 [==============================] - 3s 3ms/step - loss: 6.1638 - acc: 0.0320\n",
      "Epoch 4/10\n",
      "1000/1000 [==============================] - 3s 3ms/step - loss: 6.0895 - acc: 0.0040\n",
      "Epoch 5/10\n",
      "1000/1000 [==============================] - 3s 3ms/step - loss: 6.0294 - acc: 0.0050\n",
      "Epoch 6/10\n",
      "1000/1000 [==============================] - 3s 3ms/step - loss: 5.9632 - acc: 0.0160\n",
      "Epoch 7/10\n",
      "1000/1000 [==============================] - 3s 3ms/step - loss: 5.8546 - acc: 0.0180\n",
      "Epoch 8/10\n",
      "1000/1000 [==============================] - 3s 3ms/step - loss: 5.7613 - acc: 0.0250\n",
      "Epoch 9/10\n",
      "1000/1000 [==============================] - 3s 3ms/step - loss: 5.6632 - acc: 0.0330\n",
      "Epoch 10/10\n",
      "1000/1000 [==============================] - 2s 2ms/step - loss: 5.5726 - acc: 0.0400\n"
     ]
    },
    {
     "data": {
      "text/plain": [
       "<keras.callbacks.History at 0x2219868b5f8>"
      ]
     },
     "execution_count": 27,
     "metadata": {},
     "output_type": "execute_result"
    }
   ],
   "source": [
    "# 将数据输入到多输入模型中\n",
    "import numpy as np\n",
    "import keras\n",
    "\n",
    "num_samples = 1000\n",
    "max_length = 100\n",
    "\n",
    "text = np.random.randint(1, text_vocabulary_size,\n",
    "                         size=(num_samples, max_length)) # 生成虚构的Numpy数据\n",
    "\n",
    "question = np.random.randint(1, question_vocabulary_size,\n",
    "                             size=(num_samples, max_length))\n",
    "\n",
    "answers = np.random.randint(answer_vocabulary_size, size=(num_samples))\n",
    "answers = keras.utils.to_categorical(answers, answer_vocabulary_size) # 回答是one-hot编码的，不是整数\n",
    "\n",
    "# model.fit([text, question], answers, epochs=10, batch_size=128) # 使用输入组成的列表来拟合\n",
    "\n",
    "model.fit({'text':text, 'question': question}, answers,\n",
    "          epochs=10, batch_size=128) # 使用输入组成的字典来拟合（只有对输入进行命名后才能使用）"
   ]
  },
  {
   "cell_type": "markdown",
   "metadata": {},
   "source": [
    "多输出模型"
   ]
  },
  {
   "cell_type": "code",
   "execution_count": 30,
   "metadata": {},
   "outputs": [],
   "source": [
    "# 用函数式API实现一个三输出模型\n",
    "from keras import layers\n",
    "from keras import Input\n",
    "from keras.models import Model\n",
    "\n",
    "vocabulary_size = 50000\n",
    "num_income_groups = 10\n",
    "\n",
    "posts_input = Input(shape=(None,), dtype='int32', name='posts')\n",
    "embedded_posts = layers.Embedding(256, vocabulary_size)(posts_input)\n",
    "x = layers.Conv1D(128, 5, activation='relu')(embedded_posts)\n",
    "x = layers.MaxPooling1D(5)(x)\n",
    "x = layers.Conv1D(256, 5, activation='relu')(x)\n",
    "x = layers.Conv1D(256, 5, activation='relu')(x)\n",
    "x = layers.MaxPooling1D(5)(x)\n",
    "x = layers.Conv1D(256, 5, activation='relu')(x)\n",
    "x = layers.Conv1D(256, 5, activation='relu')(x)\n",
    "x = layers.GlobalMaxPooling1D()(x)\n",
    "x = layers.Dense(128, activation='relu')(x)\n",
    "\n",
    "age_prediction = layers.Dense(1, name='age')(x) # 注意，输出层都具有名称\n",
    "income_prediction = layers.Dense(num_income_groups, activation='softmax', name='income')(x)\n",
    "gender_prediction = layers.Dense(1, activation='sigmoid', name='gender')(x)\n",
    "\n",
    "model = Model(posts_input, [age_prediction, income_prediction, gender_prediction])"
   ]
  },
  {
   "cell_type": "code",
   "execution_count": 31,
   "metadata": {},
   "outputs": [],
   "source": [
    "# 多输出模型的编译选项：多重损失\n",
    "model.compile(optimizer='rmsprop',\n",
    "              loss=['mse', 'categorical_crossentropy', 'binary_crossentropy'])\n",
    "\n",
    "model.compile(optimizer='rmsprop',\n",
    "              loss={'age':'mse',\n",
    "                    'income':'categorical_crossentropy',\n",
    "                    'gender':'binary_crossentropy'}) # 与上述写法等效（只有输出层具有\n",
    "                                                     # 名称时才能使用这种写法）"
   ]
  },
  {
   "cell_type": "code",
   "execution_count": 33,
   "metadata": {},
   "outputs": [],
   "source": [
    "# 多输出模型的编译选项：损失加权\n",
    "model.compile(optimizer='rmsprop',\n",
    "              loss=['mse', 'categorical_crossentropy', 'binary_crossentropy'],\n",
    "              loss_weights=[0.25, 1., 10.])\n",
    "\n",
    "model.compile(optimizer='rmsprop',\n",
    "              loss={'age':'mse',\n",
    "                    'income':'categorical_crossentropy',\n",
    "                    'gender':'binary_crossentropy'},\n",
    "              loss_weights={'age':0.25,\n",
    "                            'income':1.,\n",
    "                            'gender':10.}) # 与上述写法等效（只有输出层具有名称时\n",
    "                                           # 才能采用这种写法）"
   ]
  },
  {
   "cell_type": "code",
   "execution_count": 36,
   "metadata": {},
   "outputs": [],
   "source": [
    "# 将数据输入到多输出模型中\n",
    "def train_0():\n",
    "    model.fit(posts, [age_targets, income_targets, gender_targets],\n",
    "              epochs=10, batch_size=64) # 假设age_targets、income_targets和gender_targets都是Numpy数组\n",
    "\n",
    "    model.fit(posts, {'age':age_targets,\n",
    "                      'income':income_targets,\n",
    "                      'gender':gender_targets},\n",
    "              epochs=10, batch_size=64) # 与上述写法等效（只有输出层具有名称时才能采用这种写法）"
   ]
  },
  {
   "cell_type": "markdown",
   "metadata": {},
   "source": [
    "层组成的有向无环图"
   ]
  },
  {
   "cell_type": "markdown",
   "metadata": {},
   "source": [
    "1. Inception模块"
   ]
  },
  {
   "cell_type": "code",
   "execution_count": 44,
   "metadata": {},
   "outputs": [],
   "source": [
    "from keras import layers\n",
    "def Inception():\n",
    "    # 每个分支都有相同的步幅值（2），这对于保持所有分支输出具有相同的尺寸是很有必要的，\n",
    "    # 这样你才能将它们连接在一起\n",
    "    branch_a = layers.Conv2D(128, 1, activation='relu', strides=2)(x) \n",
    "\n",
    "    # 在这个分支中，空间卷积层用到了步幅\n",
    "    branch_b = layers.Conv2D(128, 1, activation='relu')(x)\n",
    "    branch_b = layers.Conv2D(128, 3, activation='relu', strides=2)(branch_b)\n",
    "\n",
    "    # 在这个分支中，平均池化层用到了步幅\n",
    "    branch_c = layers.AveragePooling2D(3, strides-2)(x)\n",
    "    branch_c = layers.Conv2D(128, 3, activation='relu')(branch_c)\n",
    "\n",
    "    branch_d = layers.Conv2D(128, 1, activation='relu')(x)\n",
    "    branch_d = layers.Conv2D(128, 3, activation='relu')(branch_d)\n",
    "    branch_d = layers.Conv2D(128, 3, activation='relu', strides=2)(branch_d)\n",
    "\n",
    "    # 将分支输出连接在一起\n",
    "    output = layers.concatenate([branch_a, branch_b, branch_c, branch_d], axis=-1)"
   ]
  },
  {
   "cell_type": "markdown",
   "metadata": {},
   "source": [
    "2 残差连接"
   ]
  },
  {
   "cell_type": "code",
   "execution_count": 45,
   "metadata": {},
   "outputs": [],
   "source": [
    "from keras import layers\n",
    "def residual_connection():\n",
    "    x = ...\n",
    "    y = layers.Conv2D(128, 3, activation='relu', padding='same')(x) # 对x进行变化\n",
    "    y = layers.Conv2D(128, 3, activation='relu', padding='same')(y)\n",
    "    y = layers.Conv2D(128, 3, activation='relu', padding='same')(y)\n",
    "    \n",
    "    y = layers.add([y, x]) # 将原始x与输出特征相加\n",
    "    \n",
    "    \n",
    "    # 如果特征图尺寸不用，如下用线性残差连接\n",
    "    x = ...\n",
    "    y = layers.Conv2D(128, 3, activation='relu', padding='same')(x)\n",
    "    y = layers.Conv2D(128, 3, activation='relu', padding='same')(y)\n",
    "    y = layers.MaxPooling2D(2, strides=2)(y)\n",
    "    \n",
    "    # 使用1×1卷积，将原始x张量线性下采样为与y具有相同的形状\n",
    "    residual = layers.Conv2D(128, 1, strides=2, padding='same')(x) \n",
    "    \n",
    "    y = layers.add([y, residual]) # 将残差张量与输出特征相加"
   ]
  },
  {
   "cell_type": "markdown",
   "metadata": {},
   "source": [
    "共享层权重"
   ]
  },
  {
   "cell_type": "code",
   "execution_count": 46,
   "metadata": {},
   "outputs": [],
   "source": [
    "from keras import layers\n",
    "from keras import Input\n",
    "from keras.models import Model\n",
    "\n",
    "def shared_layer():\n",
    "    lstm = layers.LSTM(32) # 将一个LSTM层实例化一次\n",
    "\n",
    "    # 构建模型的左分支：输入是长度128的向量组成的变长序列\n",
    "    left_input = Input(shape=(None, 128))\n",
    "    left_output = lstm(left_input)\n",
    "\n",
    "    # 构建模型的右分支：如果调用已有的层实例，那么就会重复使用它的权重\n",
    "    right_input = Input(shape=(None, 128))\n",
    "    right_output = lstm(right_input)\n",
    "\n",
    "    # 在上面构建一个分类器\n",
    "    merged = layers.concatenate([left_out, right_output], axis=-1)\n",
    "    predictions = layers.Dense(1, activation='sigmoid')(merged)\n",
    "\n",
    "    # 将模型实例化并训练：训练这种模型时，基于两个输入对LSTM层的权重进行更新\n",
    "    model = Model([left_input, right_input], predictions)\n",
    "    model.fit([left_data, right_data], targets)"
   ]
  },
  {
   "cell_type": "markdown",
   "metadata": {},
   "source": [
    "将模型作为层"
   ]
  },
  {
   "cell_type": "code",
   "execution_count": 47,
   "metadata": {},
   "outputs": [],
   "source": [
    "from keras import layers\n",
    "from keras import applications\n",
    "from keras import Input\n",
    "\n",
    "# 图像处理基础模型是Xception网络（只包括卷积基）\n",
    "xception_base = applications.Xception(weights=None, include_top=False)\n",
    "\n",
    "# 输入是250×250的RGB图像\n",
    "left_input = Input(shape=(250, 250, 3))\n",
    "right_input = Input(shape=(250, 250, 3))\n",
    "\n",
    "# 对相同的视觉模型调用两次\n",
    "left_features = xception_base(left_input)\n",
    "right_input = xception_base(right_input)\n",
    "\n",
    "# 合并后的特征包含来自左右两个视觉输入中的信息\n",
    "merged_features = layers.concatenate([left_features, right_input], axis=-1)"
   ]
  },
  {
   "cell_type": "markdown",
   "metadata": {},
   "source": [
    "**7.2 使用Keras回调函数和TensorBoard来检查并监控深度学习模型**"
   ]
  },
  {
   "cell_type": "markdown",
   "metadata": {},
   "source": [
    "训练过程中将回调函数作用于模型"
   ]
  },
  {
   "cell_type": "markdown",
   "metadata": {},
   "source": [
    "1 ModelCheckpoint与EarlyStopping回调函数 "
   ]
  },
  {
   "cell_type": "code",
   "execution_count": 1,
   "metadata": {},
   "outputs": [],
   "source": [
    "def ModelCheckpoint_EarlyStopping():\n",
    "    import keras\n",
    "    \n",
    "    # 通过fit的callbacks参数将回调函数传入模型中，这个参数接收一个回调函数的列表。\n",
    "    # 你可以传入任意个数的回调函数\n",
    "    callback_list = [\n",
    "        keras.callbacks.EarlyStopping( # 如果不再改善，就中断训练\n",
    "            monitor='acc', # 监控模型的验证精度\n",
    "            patience=1,    # 如果精度在多于一轮的实际（即两轮）内不再改善，中断训练\n",
    "        ),\n",
    "        keras.callbacks.ModelCheckpoint( # 在每轮过后保存当前权重\n",
    "            filepath='my_model.h5', # 目标模型文件的保存路径\n",
    "            \n",
    "            # 下面两个参数的含义是，如果val_loss没有改善，那么不需要覆盖模型文件。\n",
    "            # 这就可以始终保存在训练过程中见到的最佳模型\n",
    "            monitor='val_loss',\n",
    "            save_best_only=True,\n",
    "        )\n",
    "    ]\n",
    "    \n",
    "    model.compile(optimizer='rmsprop',\n",
    "                  loss='binary_crossentropy',\n",
    "                  metrics=['acc']) # 你监控精度，所以它应该是模型指标的一部分\n",
    "    \n",
    "    # 注意，由于回调函数要监控验证损失和验证精度，所以在调用fit时需要传入validation_data(验证数据)\n",
    "    model.fit(x, y,\n",
    "              epochs=10,\n",
    "              batch_size=32,\n",
    "              callbacks=callbacks_list,\n",
    "              validation_data=(x_val, y_val))"
   ]
  },
  {
   "cell_type": "markdown",
   "metadata": {},
   "source": [
    "2 ReduceLROnPlateau回调函数"
   ]
  },
  {
   "cell_type": "code",
   "execution_count": 2,
   "metadata": {},
   "outputs": [],
   "source": [
    "def ReduceLROnPlateau():\n",
    "    callbacks_list = [\n",
    "        keras.callbacks.ReduceLROnPlateau(\n",
    "            monitor='val_loss', # 监控模型的验证损失\n",
    "            factor=0.1, # 触发时将学习率除以10\n",
    "            patience=10, # 如果验证损失在10轮内都没有改善，那么就触发这个回调函数\n",
    "        )\n",
    "    ]\n",
    "    \n",
    "    # 注意，因为回调函数要监控验证损失，所以你需要在调用fit时传入validation_data(验证数据)\n",
    "    model.fit(x, y,\n",
    "              epochs=10,\n",
    "              batch_size=32,\n",
    "              callbacks=callbacks_list,\n",
    "              validation_data=(x_val, y_val))"
   ]
  },
  {
   "cell_type": "markdown",
   "metadata": {},
   "source": [
    "3 编写你自己的回调函数"
   ]
  },
  {
   "cell_type": "code",
   "execution_count": 3,
   "metadata": {},
   "outputs": [
    {
     "name": "stderr",
     "output_type": "stream",
     "text": [
      "Using TensorFlow backend.\n"
     ]
    }
   ],
   "source": [
    "import keras\n",
    "import numpy as np\n",
    "\n",
    "class ActivationLogger(keras.callbacks.Callback):\n",
    "    \n",
    "    def set_model(self, model):\n",
    "        self.model = model # 在训练之前由父模型调用，告诉回调函数是哪个模型在调用它\n",
    "        layer_outputs = [layer.output for layer in model.layers]\n",
    "        self.activations_model = keras.model.Model(model.input, layer_outputs) # 模型实例，返回每层的激活\n",
    "        \n",
    "    def on_epoch_end(self, epoch, logs=None):\n",
    "        if self.validation_data is None:\n",
    "            raise RuntimeError('Require validation_data.')\n",
    "            \n",
    "        validation_sample = self.validation_data[0][0:1] # 获取验证数据的第一个输入样本\n",
    "        activations = self.activations_model.predict(validation_sample)\n",
    "        \n",
    "        # 将数组保存到硬盘\n",
    "        f = open('activations_at_epoch_' + str(epoch) + '.npz', 'w')\n",
    "        np.savez(f, activations)\n",
    "        f.close()"
   ]
  },
  {
   "cell_type": "markdown",
   "metadata": {},
   "source": [
    "TensorBoard简介：TensorFlow的可视化框架"
   ]
  },
  {
   "cell_type": "code",
   "execution_count": 1,
   "metadata": {},
   "outputs": [
    {
     "name": "stderr",
     "output_type": "stream",
     "text": [
      "Using TensorFlow backend.\n"
     ]
    },
    {
     "name": "stdout",
     "output_type": "stream",
     "text": [
      "_________________________________________________________________\n",
      "Layer (type)                 Output Shape              Param #   \n",
      "=================================================================\n",
      "embed (Embedding)            (None, 500, 128)          256000    \n",
      "_________________________________________________________________\n",
      "conv1d_1 (Conv1D)            (None, 494, 32)           28704     \n",
      "_________________________________________________________________\n",
      "max_pooling1d_1 (MaxPooling1 (None, 98, 32)            0         \n",
      "_________________________________________________________________\n",
      "conv1d_2 (Conv1D)            (None, 92, 32)            7200      \n",
      "_________________________________________________________________\n",
      "global_max_pooling1d_1 (Glob (None, 32)                0         \n",
      "_________________________________________________________________\n",
      "dense_1 (Dense)              (None, 1)                 33        \n",
      "=================================================================\n",
      "Total params: 291,937\n",
      "Trainable params: 291,937\n",
      "Non-trainable params: 0\n",
      "_________________________________________________________________\n"
     ]
    }
   ],
   "source": [
    "# 使用了TensorBoard的文本分类模型\n",
    "import keras\n",
    "from keras import layers\n",
    "from keras.datasets import imdb\n",
    "from keras.preprocessing import sequence\n",
    "\n",
    "max_features = 2000 # 作为特征的单词个数\n",
    "max_len = 500 # 在这么多单词之后截断文本（这些单词都属于前max_features个最常见的单词）\n",
    "\n",
    "(x_train, y_train), (x_test, y_test) = imdb.load_data(num_words=max_features)\n",
    "x_train = sequence.pad_sequences(x_train, maxlen=max_len)\n",
    "x_test = sequence.pad_sequences(x_test, maxlen=max_len)\n",
    "\n",
    "model = keras.models.Sequential()\n",
    "model.add(layers.Embedding(max_features, 128,\n",
    "                           input_length=max_len,\n",
    "                           name='embed'))\n",
    "model.add(layers.Conv1D(32, 7, activation='relu'))\n",
    "model.add(layers.MaxPooling1D(5))\n",
    "model.add(layers.Conv1D(32, 7, activation='relu'))\n",
    "model.add(layers.GlobalMaxPooling1D())\n",
    "model.add(layers.Dense(1))\n",
    "model.summary()\n",
    "model.compile(optimizer='rmsprop', \n",
    "              loss='binary_crossentropy',\n",
    "              metrics=['acc'])"
   ]
  },
  {
   "cell_type": "code",
   "execution_count": 2,
   "metadata": {},
   "outputs": [],
   "source": [
    "# 为TensorBoard日志文件创建一个目录\n",
    "import os\n",
    "os.mkdir('my_log_dir')"
   ]
  },
  {
   "cell_type": "code",
   "execution_count": 2,
   "metadata": {
    "scrolled": true
   },
   "outputs": [
    {
     "name": "stdout",
     "output_type": "stream",
     "text": [
      "Train on 20000 samples, validate on 5000 samples\n",
      "Epoch 1/20\n",
      "20000/20000 [==============================] - 7s 364us/step - loss: 0.6349 - acc: 0.6512 - val_loss: 0.4226 - val_acc: 0.8394\n",
      "Epoch 2/20\n",
      "20000/20000 [==============================] - 4s 219us/step - loss: 0.4604 - acc: 0.8159 - val_loss: 0.4069 - val_acc: 0.8434\n",
      "Epoch 3/20\n",
      "20000/20000 [==============================] - 4s 221us/step - loss: 0.3612 - acc: 0.8256 - val_loss: 0.5497 - val_acc: 0.7508\n",
      "Epoch 4/20\n",
      "20000/20000 [==============================] - 4s 224us/step - loss: 0.3308 - acc: 0.7761 - val_loss: 0.5250 - val_acc: 0.7592\n",
      "Epoch 5/20\n",
      "20000/20000 [==============================] - 4s 225us/step - loss: 0.2948 - acc: 0.7509 - val_loss: 0.6278 - val_acc: 0.6708\n",
      "Epoch 6/20\n",
      "20000/20000 [==============================] - 4s 223us/step - loss: 0.2672 - acc: 0.6983 - val_loss: 0.5693 - val_acc: 0.6762\n",
      "Epoch 7/20\n",
      "20000/20000 [==============================] - 4s 221us/step - loss: 0.2234 - acc: 0.6507 - val_loss: 0.6914 - val_acc: 0.5800\n",
      "Epoch 8/20\n",
      "20000/20000 [==============================] - 4s 222us/step - loss: 0.1855 - acc: 0.6042 - val_loss: 0.8059 - val_acc: 0.5154\n",
      "Epoch 9/20\n",
      "20000/20000 [==============================] - 4s 224us/step - loss: 0.1649 - acc: 0.5776 - val_loss: 0.7528 - val_acc: 0.5072\n",
      "Epoch 10/20\n",
      "20000/20000 [==============================] - 4s 223us/step - loss: 0.1265 - acc: 0.5231 - val_loss: 0.8111 - val_acc: 0.4612\n",
      "Epoch 11/20\n",
      "20000/20000 [==============================] - 4s 222us/step - loss: 0.1127 - acc: 0.4514 - val_loss: 1.6536 - val_acc: 0.3184\n",
      "Epoch 12/20\n",
      "20000/20000 [==============================] - 4s 221us/step - loss: 0.1038 - acc: 0.3885 - val_loss: 1.1482 - val_acc: 0.3386\n",
      "Epoch 13/20\n",
      "20000/20000 [==============================] - 4s 222us/step - loss: 0.0980 - acc: 0.3351 - val_loss: 1.0941 - val_acc: 0.3188\n",
      "Epoch 14/20\n",
      "20000/20000 [==============================] - 5s 226us/step - loss: 0.0890 - acc: 0.2872 - val_loss: 1.0640 - val_acc: 0.3290\n",
      "Epoch 15/20\n",
      "20000/20000 [==============================] - 5s 226us/step - loss: 0.0959 - acc: 0.2533 - val_loss: 1.1683 - val_acc: 0.2784\n",
      "Epoch 16/20\n",
      "20000/20000 [==============================] - 5s 227us/step - loss: 0.0954 - acc: 0.2209 - val_loss: 1.1576 - val_acc: 0.2828\n",
      "Epoch 17/20\n",
      "20000/20000 [==============================] - 4s 224us/step - loss: 0.0859 - acc: 0.2116 - val_loss: 1.1662 - val_acc: 0.2666\n",
      "Epoch 18/20\n",
      "20000/20000 [==============================] - 4s 220us/step - loss: 0.0850 - acc: 0.1840 - val_loss: 1.2403 - val_acc: 0.2592\n",
      "Epoch 19/20\n",
      "20000/20000 [==============================] - 4s 223us/step - loss: 0.0845 - acc: 0.1798 - val_loss: 1.1883 - val_acc: 0.2554\n",
      "Epoch 20/20\n",
      "20000/20000 [==============================] - 4s 223us/step - loss: 0.0863 - acc: 0.1668 - val_loss: 1.2231 - val_acc: 0.2334\n"
     ]
    }
   ],
   "source": [
    "# 使用一个TensorBoard回调函数来训练模型\n",
    "callbacks = [\n",
    "    keras.callbacks.TensorBoard(\n",
    "        log_dir='my_log_dir', # 日志文件将被写入这个位置\n",
    "        histogram_freq=1,     # 每一轮之后记录激活直方图\n",
    "        #embeddings_freq=1,    # 每一轮之后记录嵌入数据\n",
    "    )\n",
    "]\n",
    "history = model.fit(x_train, y_train,\n",
    "                    epochs=20,\n",
    "                    batch_size=128, \n",
    "                    validation_split=0.2,\n",
    "                    callbacks=callbacks)"
   ]
  },
  {
   "cell_type": "code",
   "execution_count": 3,
   "metadata": {},
   "outputs": [],
   "source": [
    "# 用keras.utils.plot_model函数将模型绘制成层组成的图\n",
    "from keras.utils import plot_model\n",
    "\n",
    "plot_model(model, to_file='model.png')"
   ]
  },
  {
   "cell_type": "code",
   "execution_count": 5,
   "metadata": {},
   "outputs": [],
   "source": [
    "# 使用plot_model函数及show_shapes选项将模型拓扑结构可视化\n",
    "from keras.utils import plot_model\n",
    "\n",
    "plot_model(model, show_shapes=True, to_file='model_1.png')"
   ]
  },
  {
   "cell_type": "markdown",
   "metadata": {},
   "source": [
    "**7.3 让模型性能发挥到极致**"
   ]
  },
  {
   "cell_type": "markdown",
   "metadata": {},
   "source": [
    "高级架构模式"
   ]
  },
  {
   "cell_type": "markdown",
   "metadata": {},
   "source": [
    "1 标准化 "
   ]
  },
  {
   "cell_type": "code",
   "execution_count": 7,
   "metadata": {},
   "outputs": [],
   "source": [
    "# BatchNormalization层通常在卷积层或密集连接层之后使用\n",
    "\n",
    "def BatchNormalization_demo():\n",
    "    conv_model.add(layers.Conv2D(32, 3, activation='relu')) # 在卷积层之后使用\n",
    "    conv_model.add(layers.BatchNormalization())\n",
    "\n",
    "    dense_model.add(layers.Dense(32, activation='relu')) # 在Dense层之后使用\n",
    "    dense_model.add(layers.BatchNormalization())"
   ]
  },
  {
   "cell_type": "markdown",
   "metadata": {},
   "source": [
    "2 深度可分离卷积 "
   ]
  },
  {
   "cell_type": "code",
   "execution_count": 10,
   "metadata": {},
   "outputs": [],
   "source": [
    "from keras.models import Sequential, Model\n",
    "from keras import layers\n",
    "\n",
    "height = 64\n",
    "width = 64\n",
    "channels = 3\n",
    "num_classes = 10\n",
    "\n",
    "model = Sequential()\n",
    "model.add(layers.SeparableConv2D(32, 3,\n",
    "                             activation='relu',\n",
    "                             input_shape=(height, width, channels,)))\n",
    "model.add(layers.SeparableConv2D(64, 4, activation='relu'))\n",
    "model.add(layers.MaxPooling2D(2))\n",
    "\n",
    "model.add(layers.SeparableConv2D(64, 3, activation='relu'))\n",
    "model.add(layers.SeparableConv2D(128, 3, activation='relu'))\n",
    "model.add(layers.MaxPooling2D(2))\n",
    "\n",
    "model.add(layers.SeparableConv2D(64, 3, activation='relu'))\n",
    "model.add(layers.SeparableConv2D(128, 3, activation='relu'))\n",
    "model.add(layers.GlobalAveragePooling2D())\n",
    "\n",
    "model.add(layers.Dense(32, activation='relu'))\n",
    "model.add(layers.Dense(num_classes, activation='softmax'))\n",
    "\n",
    "model.compile(optimizer='rmsprop', loss='categorical_crossentropy')"
   ]
  },
  {
   "cell_type": "code",
   "execution_count": 11,
   "metadata": {},
   "outputs": [
    {
     "name": "stdout",
     "output_type": "stream",
     "text": [
      "_________________________________________________________________\n",
      "Layer (type)                 Output Shape              Param #   \n",
      "=================================================================\n",
      "separable_conv2d_1 (Separabl (None, 62, 62, 32)        155       \n",
      "_________________________________________________________________\n",
      "separable_conv2d_2 (Separabl (None, 59, 59, 64)        2624      \n",
      "_________________________________________________________________\n",
      "max_pooling2d_1 (MaxPooling2 (None, 29, 29, 64)        0         \n",
      "_________________________________________________________________\n",
      "separable_conv2d_3 (Separabl (None, 27, 27, 64)        4736      \n",
      "_________________________________________________________________\n",
      "separable_conv2d_4 (Separabl (None, 25, 25, 128)       8896      \n",
      "_________________________________________________________________\n",
      "max_pooling2d_2 (MaxPooling2 (None, 12, 12, 128)       0         \n",
      "_________________________________________________________________\n",
      "separable_conv2d_5 (Separabl (None, 10, 10, 64)        9408      \n",
      "_________________________________________________________________\n",
      "separable_conv2d_6 (Separabl (None, 8, 8, 128)         8896      \n",
      "_________________________________________________________________\n",
      "global_average_pooling2d_1 ( (None, 128)               0         \n",
      "_________________________________________________________________\n",
      "dense_2 (Dense)              (None, 32)                4128      \n",
      "_________________________________________________________________\n",
      "dense_3 (Dense)              (None, 10)                330       \n",
      "=================================================================\n",
      "Total params: 39,173\n",
      "Trainable params: 39,173\n",
      "Non-trainable params: 0\n",
      "_________________________________________________________________\n"
     ]
    }
   ],
   "source": [
    "model.summary()"
   ]
  },
  {
   "cell_type": "markdown",
   "metadata": {},
   "source": [
    "超参数优化"
   ]
  },
  {
   "cell_type": "markdown",
   "metadata": {},
   "source": [
    "模型集成"
   ]
  },
  {
   "cell_type": "code",
   "execution_count": 12,
   "metadata": {},
   "outputs": [],
   "source": [
    "# 简单取平均\n",
    "def ensemble_average():\n",
    "    # 使用4个不同的模型来计算初始预测\n",
    "    preds_a = model_a.predict(x_val)\n",
    "    preds_b = model_b.predict(x_val)\n",
    "    preds_c = model_c.predict(x_val)\n",
    "    preds_d = model_d.predict(x_val)\n",
    "    \n",
    "    # 这个新的预测数组应该比任何一个初始预测都更加准确\n",
    "    final_preds = 0.25 * (preds_a + preds_b + preds_c + preds_d) "
   ]
  },
  {
   "cell_type": "code",
   "execution_count": 13,
   "metadata": {},
   "outputs": [],
   "source": [
    "# 加权平均\n",
    "def ensemble_weight():\n",
    "    preds_a = model_a.predict(x_val)\n",
    "    preds_b = model_b.predict(x_val)\n",
    "    preds_c = model_c.predict(x_val)\n",
    "    preds_d = model_d.predict(x_val)\n",
    "    \n",
    "    # 假设(0.5, 0.25, 0.1, 0.15)这些权重是根据经验学到的\n",
    "    final_preds = 0.5 * preds_a + 0.25 * preds_b + 0.1 * preds_c + 0.15 * preds_d"
   ]
  }
 ],
 "metadata": {
  "kernelspec": {
   "display_name": "Python 3",
   "language": "python",
   "name": "python3"
  },
  "language_info": {
   "codemirror_mode": {
    "name": "ipython",
    "version": 3
   },
   "file_extension": ".py",
   "mimetype": "text/x-python",
   "name": "python",
   "nbconvert_exporter": "python",
   "pygments_lexer": "ipython3",
   "version": "3.6.4"
  }
 },
 "nbformat": 4,
 "nbformat_minor": 2
}
