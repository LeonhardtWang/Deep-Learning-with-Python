{
 "cells": [
  {
   "cell_type": "markdown",
   "metadata": {},
   "source": [
    "**4.1 机器学习的四个分支**  \n",
    "监督学习、无监督学习、自监督学习、强化学习"
   ]
  },
  {
   "cell_type": "markdown",
   "metadata": {},
   "source": [
    "**4.2 评估机器学习模型**  \n",
    "训练集、验证集和测试集"
   ]
  },
  {
   "cell_type": "code",
   "execution_count": 1,
   "metadata": {},
   "outputs": [],
   "source": [
    "# 留出验证\n",
    "def hold_out_validation():\n",
    "    num_validation_samples = 10000\n",
    "    \n",
    "    np.random.shuffle(data) # 通常需要打乱数据\n",
    "    \n",
    "    validation_data = data[:num_validation_samples] # 定义验证集\n",
    "    data = data[num_validation_samples:]\n",
    "    \n",
    "    training_data = data[:] # 定义训练集\n",
    "    \n",
    "    # 在训练数据上训练模型，并在验证数据上评估模型\n",
    "    model = get_model()\n",
    "    model.train(training_data)\n",
    "    validation_score = model.evaluate(validation_data)\n",
    "    \n",
    "    # 现在你可以调节模型、重新训练、评估，然后再次调节\n",
    "    \n",
    "    # 一旦调节好超参数，通常就在所有非测试数据上从头开始训练最终模型\n",
    "    model = get_model()\n",
    "    model.train(np.concatenate([training_data, validation_data]))\n",
    "    \n",
    "    test_score = model.evaluate(test_data)"
   ]
  },
  {
   "cell_type": "code",
   "execution_count": 12,
   "metadata": {},
   "outputs": [],
   "source": [
    "# K折交叉验证\n",
    "def K_fold_validation():\n",
    "    k = 4 \n",
    "    num_validation_samples = len(data) // k\n",
    "    \n",
    "    np.random.shuffle(data)\n",
    "    \n",
    "    validation_scores = []\n",
    "    for fold in range(k):\n",
    "        # 选择验证数据分区\n",
    "        validation_data = data[num_validation_samples * fold: num_validation_samples * (fold + 1)]\n",
    "        \n",
    "        # 使用剩余数据作为训练数据。注意，+运算符是列表合并，不是求和\n",
    "        training_data = data[:num_validation_samples * fold] + data[num_validation_samples * (fold + 1):]\n",
    "        \n",
    "        model = get_model() # 创建一个全新的模型实例（未训练）\n",
    "        model.train(training_data)\n",
    "        validation_score = model.evaluate(validation_data)\n",
    "        validation_score.append(validation_score)\n",
    "        \n",
    "    validation_score = np.average(validation_scores) # 最终验证分数：K折验证分数的平均值\n",
    "    \n",
    "    # 在所有非测试数据上训练最终模型\n",
    "    model = get_model()\n",
    "    model.train(data)\n",
    "    test_score = model.evaluate(test_data)"
   ]
  },
  {
   "cell_type": "code",
   "execution_count": 13,
   "metadata": {},
   "outputs": [],
   "source": [
    "# 数据标准化\n",
    "def data_std():\n",
    "    x -= x.mean(axis=0)\n",
    "    x /= x.std(axis=0)"
   ]
  },
  {
   "cell_type": "markdown",
   "metadata": {},
   "source": [
    "**4.3 数据预处理、特征工程和特征学习**"
   ]
  },
  {
   "cell_type": "markdown",
   "metadata": {},
   "source": [
    "**4.4 过拟合与欠拟合**  \n",
    "获取更多的训练数据  \n",
    "减小网络大小  \n",
    "添加权重正则化  \n",
    "添加dropout正则化"
   ]
  },
  {
   "cell_type": "code",
   "execution_count": 15,
   "metadata": {},
   "outputs": [],
   "source": [
    "# 原始模型\n",
    "from keras import models\n",
    "from keras import layers\n",
    "\n",
    "model = models.Sequential()\n",
    "model.add(layers.Dense(16, activation='relu', input_shape=(10000,)))\n",
    "model.add(layers.Dense(16, activation='relu'))\n",
    "model.add(layers.Dense(1, activation='sigmoid'))"
   ]
  },
  {
   "cell_type": "code",
   "execution_count": 16,
   "metadata": {},
   "outputs": [],
   "source": [
    "# 容量更小的模型\n",
    "model = models.Sequential()\n",
    "model.add(layers.Dense(4, activation='relu', input_shape=(10000,)))\n",
    "model.add(layers.Dense(4, activation='relu'))\n",
    "model.add(layers.Dense(1, activation='sigmoid'))"
   ]
  },
  {
   "cell_type": "code",
   "execution_count": 20,
   "metadata": {},
   "outputs": [],
   "source": [
    "# 向模型添加L2权重正则化\n",
    "from keras import regularizers\n",
    "\n",
    "model = models.Sequential()\n",
    "model.add(layers.Dense(16, kernel_regularizer=regularizers.l2(0.001),\n",
    "                       activation='relu', input_shape=(10000,))) # l2正则化\n",
    "model.add(layers.Dense(16, kernel_regularizer=regularizers.l2(0.001),\n",
    "                       activation='relu'))\n",
    "model.add(layers.Dense(1, activation='sigmoid'))"
   ]
  },
  {
   "cell_type": "code",
   "execution_count": 21,
   "metadata": {},
   "outputs": [
    {
     "data": {
      "text/plain": [
       "<keras.regularizers.L1L2 at 0x2221eb037f0>"
      ]
     },
     "execution_count": 21,
     "metadata": {},
     "output_type": "execute_result"
    }
   ],
   "source": [
    "# Keras中不同的权重正则化项\n",
    "from keras import regularizers \n",
    "\n",
    "regularizers.l1(0.001) # L1正则化\n",
    "\n",
    "regularizers.l1_l2(l1=0.001, l2=0.002) # 同时做L1和L2正则化"
   ]
  },
  {
   "cell_type": "code",
   "execution_count": 24,
   "metadata": {},
   "outputs": [
    {
     "data": {
      "text/plain": [
       "array([1, 1, 0, 0, 1, 1])"
      ]
     },
     "execution_count": 24,
     "metadata": {},
     "output_type": "execute_result"
    }
   ],
   "source": [
    "np.random.randint(0, 2, 6)"
   ]
  },
  {
   "cell_type": "code",
   "execution_count": 25,
   "metadata": {},
   "outputs": [],
   "source": [
    "# 向IMDB网络中添加dropout\n",
    "model = models.Sequential()\n",
    "model.add(layers.Dense(16, activation='relu', input_shape=(10000,)))\n",
    "model.add(layers.Dropout(0.5))\n",
    "model.add(layers.Dense(16, activation='relu'))\n",
    "model.add(layers.Dropout(0.5))\n",
    "model.add(layers.Dense(1, activation='sigmoid'))"
   ]
  },
  {
   "cell_type": "markdown",
   "metadata": {},
   "source": [
    "**4.5 机器学习的通用工作流程**  \n",
    "定义问题，收集数据集  \n",
    "选择衡量成功的指标  \n",
    "确定评估方法  \n",
    "准备数据  \n",
    "开发比基准更好的模型  \n",
    "扩大模型规模：开发过拟合的模型  \n",
    "模型正则化与调节超参数 "
   ]
  },
  {
   "cell_type": "code",
   "execution_count": null,
   "metadata": {},
   "outputs": [],
   "source": []
  }
 ],
 "metadata": {
  "kernelspec": {
   "display_name": "Python 3",
   "language": "python",
   "name": "python3"
  },
  "language_info": {
   "codemirror_mode": {
    "name": "ipython",
    "version": 3
   },
   "file_extension": ".py",
   "mimetype": "text/x-python",
   "name": "python",
   "nbconvert_exporter": "python",
   "pygments_lexer": "ipython3",
   "version": "3.6.4"
  }
 },
 "nbformat": 4,
 "nbformat_minor": 2
}
